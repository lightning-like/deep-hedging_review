{
  "cells": [
    {
      "cell_type": "markdown",
      "metadata": {
        "id": "41VE08_pyFuR"
      },
      "source": [
        "# **Deep Hedging**\n",
        "# Buchkov Viacheslav"
      ]
    },
    {
      "cell_type": "code",
      "execution_count": 1,
      "metadata": {
        "id": "LKcSNj4tlRVK"
      },
      "outputs": [],
      "source": [
        "import abc\n",
        "import math\n",
        "import os\n",
        "import random\n",
        "import sys\n",
        "from functools import lru_cache\n",
        "from pathlib import Path\n",
        "\n",
        "import matplotlib.pyplot as plt\n",
        "import numpy as np\n",
        "import pandas as pd\n",
        "\n",
        "import torch\n",
        "from torch import nn\n",
        "from torch.nn import functional as F\n",
        "from torch.utils.data import DataLoader\n",
        "from tqdm import tqdm\n",
        "\n",
        "# You may add any imports you need\n",
        "from torch.cuda.amp import GradScaler\n",
        "\n",
        "RANDOM_SEED = 12"
      ]
    },
    {
      "cell_type": "code",
      "execution_count": 2,
      "metadata": {
        "id": "47YPLjDL-Mtv"
      },
      "outputs": [],
      "source": [
        "def seed_everything(seed):\n",
        "    random.seed(seed)\n",
        "    np.random.seed(seed)\n",
        "    torch.manual_seed(seed)\n",
        "    torch.cuda.manual_seed(seed)\n",
        "    torch.backends.cudnn.deterministic = True\n",
        "\n",
        "\n",
        "seed_everything(RANDOM_SEED)"
      ]
    },
    {
      "cell_type": "code",
      "execution_count": 3,
      "metadata": {
        "id": "ZrCB4LgfO8y6"
      },
      "outputs": [],
      "source": [
        "if torch.backends.mps.is_available():\n",
        "    DEVICE = torch.device('mps')\n",
        "elif torch.cuda.is_available():\n",
        "    DEVICE = torch.device('cuda')\n",
        "else:\n",
        "    DEVICE = torch.device('cpu')"
      ]
    },
    {
      "cell_type": "code",
      "execution_count": 4,
      "metadata": {
        "colab": {
          "base_uri": "https://localhost:8080/"
        },
        "id": "QmkSjI1Regtf",
        "outputId": "850461e8-4e1b-4deb-ce4e-1461a8ca4a0c"
      },
      "outputs": [
        {
          "output_type": "stream",
          "name": "stdout",
          "text": [
            "Mounted at /content/gdrive\n"
          ]
        }
      ],
      "source": [
        "from google.colab import drive\n",
        "\n",
        "drive.mount(\"/content/gdrive\", force_remount=True)\n",
        "\n",
        "ROOT_PATH = Path(\"dataset\")\n",
        "PATH = Path(\"/content/gdrive/MyDrive/\")\n",
        "N_DAYS = 5"
      ]
    },
    {
      "cell_type": "code",
      "execution_count": 5,
      "metadata": {
        "colab": {
          "base_uri": "https://localhost:8080/",
          "height": 450
        },
        "id": "kmiS11dsOnaq",
        "outputId": "48c57e4f-c6e2-48fe-c744-0c34a06d8923"
      },
      "outputs": [
        {
          "output_type": "execute_result",
          "data": {
            "text/plain": [
              "                                 bid        ask  rub_rate  usd_rate\n",
              "timestamp                                                          \n",
              "2017-01-03 07:00:00+00:00  60.973760  61.016500  0.081265  0.006720\n",
              "2017-01-03 07:01:00+00:00  61.010855  61.068045  0.081265  0.006720\n",
              "2017-01-03 07:02:00+00:00  61.037220  61.069850  0.081265  0.006720\n",
              "2017-01-03 07:03:00+00:00  61.011955  61.048690  0.081265  0.006720\n",
              "2017-01-03 07:04:00+00:00  61.021250  61.052835  0.081265  0.006720\n",
              "...                              ...        ...       ...       ...\n",
              "2019-05-17 20:45:00+00:00  64.751605  64.781930  0.066051  0.026054\n",
              "2019-05-17 20:46:00+00:00  64.751060  64.770000  0.066051  0.026054\n",
              "2019-05-17 20:47:00+00:00  64.738785  64.757005  0.066051  0.026054\n",
              "2019-05-17 20:48:00+00:00  64.745670  64.764985  0.066051  0.026054\n",
              "2019-05-17 20:49:00+00:00  64.751355  64.783890  0.066051  0.026054\n",
              "\n",
              "[480924 rows x 4 columns]"
            ],
            "text/html": [
              "\n",
              "  <div id=\"df-5aa12310-3f64-4b25-9b97-1c458efec28e\" class=\"colab-df-container\">\n",
              "    <div>\n",
              "<style scoped>\n",
              "    .dataframe tbody tr th:only-of-type {\n",
              "        vertical-align: middle;\n",
              "    }\n",
              "\n",
              "    .dataframe tbody tr th {\n",
              "        vertical-align: top;\n",
              "    }\n",
              "\n",
              "    .dataframe thead th {\n",
              "        text-align: right;\n",
              "    }\n",
              "</style>\n",
              "<table border=\"1\" class=\"dataframe\">\n",
              "  <thead>\n",
              "    <tr style=\"text-align: right;\">\n",
              "      <th></th>\n",
              "      <th>bid</th>\n",
              "      <th>ask</th>\n",
              "      <th>rub_rate</th>\n",
              "      <th>usd_rate</th>\n",
              "    </tr>\n",
              "    <tr>\n",
              "      <th>timestamp</th>\n",
              "      <th></th>\n",
              "      <th></th>\n",
              "      <th></th>\n",
              "      <th></th>\n",
              "    </tr>\n",
              "  </thead>\n",
              "  <tbody>\n",
              "    <tr>\n",
              "      <th>2017-01-03 07:00:00+00:00</th>\n",
              "      <td>60.973760</td>\n",
              "      <td>61.016500</td>\n",
              "      <td>0.081265</td>\n",
              "      <td>0.006720</td>\n",
              "    </tr>\n",
              "    <tr>\n",
              "      <th>2017-01-03 07:01:00+00:00</th>\n",
              "      <td>61.010855</td>\n",
              "      <td>61.068045</td>\n",
              "      <td>0.081265</td>\n",
              "      <td>0.006720</td>\n",
              "    </tr>\n",
              "    <tr>\n",
              "      <th>2017-01-03 07:02:00+00:00</th>\n",
              "      <td>61.037220</td>\n",
              "      <td>61.069850</td>\n",
              "      <td>0.081265</td>\n",
              "      <td>0.006720</td>\n",
              "    </tr>\n",
              "    <tr>\n",
              "      <th>2017-01-03 07:03:00+00:00</th>\n",
              "      <td>61.011955</td>\n",
              "      <td>61.048690</td>\n",
              "      <td>0.081265</td>\n",
              "      <td>0.006720</td>\n",
              "    </tr>\n",
              "    <tr>\n",
              "      <th>2017-01-03 07:04:00+00:00</th>\n",
              "      <td>61.021250</td>\n",
              "      <td>61.052835</td>\n",
              "      <td>0.081265</td>\n",
              "      <td>0.006720</td>\n",
              "    </tr>\n",
              "    <tr>\n",
              "      <th>...</th>\n",
              "      <td>...</td>\n",
              "      <td>...</td>\n",
              "      <td>...</td>\n",
              "      <td>...</td>\n",
              "    </tr>\n",
              "    <tr>\n",
              "      <th>2019-05-17 20:45:00+00:00</th>\n",
              "      <td>64.751605</td>\n",
              "      <td>64.781930</td>\n",
              "      <td>0.066051</td>\n",
              "      <td>0.026054</td>\n",
              "    </tr>\n",
              "    <tr>\n",
              "      <th>2019-05-17 20:46:00+00:00</th>\n",
              "      <td>64.751060</td>\n",
              "      <td>64.770000</td>\n",
              "      <td>0.066051</td>\n",
              "      <td>0.026054</td>\n",
              "    </tr>\n",
              "    <tr>\n",
              "      <th>2019-05-17 20:47:00+00:00</th>\n",
              "      <td>64.738785</td>\n",
              "      <td>64.757005</td>\n",
              "      <td>0.066051</td>\n",
              "      <td>0.026054</td>\n",
              "    </tr>\n",
              "    <tr>\n",
              "      <th>2019-05-17 20:48:00+00:00</th>\n",
              "      <td>64.745670</td>\n",
              "      <td>64.764985</td>\n",
              "      <td>0.066051</td>\n",
              "      <td>0.026054</td>\n",
              "    </tr>\n",
              "    <tr>\n",
              "      <th>2019-05-17 20:49:00+00:00</th>\n",
              "      <td>64.751355</td>\n",
              "      <td>64.783890</td>\n",
              "      <td>0.066051</td>\n",
              "      <td>0.026054</td>\n",
              "    </tr>\n",
              "  </tbody>\n",
              "</table>\n",
              "<p>480924 rows × 4 columns</p>\n",
              "</div>\n",
              "    <div class=\"colab-df-buttons\">\n",
              "\n",
              "  <div class=\"colab-df-container\">\n",
              "    <button class=\"colab-df-convert\" onclick=\"convertToInteractive('df-5aa12310-3f64-4b25-9b97-1c458efec28e')\"\n",
              "            title=\"Convert this dataframe to an interactive table.\"\n",
              "            style=\"display:none;\">\n",
              "\n",
              "  <svg xmlns=\"http://www.w3.org/2000/svg\" height=\"24px\" viewBox=\"0 -960 960 960\">\n",
              "    <path d=\"M120-120v-720h720v720H120Zm60-500h600v-160H180v160Zm220 220h160v-160H400v160Zm0 220h160v-160H400v160ZM180-400h160v-160H180v160Zm440 0h160v-160H620v160ZM180-180h160v-160H180v160Zm440 0h160v-160H620v160Z\"/>\n",
              "  </svg>\n",
              "    </button>\n",
              "\n",
              "  <style>\n",
              "    .colab-df-container {\n",
              "      display:flex;\n",
              "      gap: 12px;\n",
              "    }\n",
              "\n",
              "    .colab-df-convert {\n",
              "      background-color: #E8F0FE;\n",
              "      border: none;\n",
              "      border-radius: 50%;\n",
              "      cursor: pointer;\n",
              "      display: none;\n",
              "      fill: #1967D2;\n",
              "      height: 32px;\n",
              "      padding: 0 0 0 0;\n",
              "      width: 32px;\n",
              "    }\n",
              "\n",
              "    .colab-df-convert:hover {\n",
              "      background-color: #E2EBFA;\n",
              "      box-shadow: 0px 1px 2px rgba(60, 64, 67, 0.3), 0px 1px 3px 1px rgba(60, 64, 67, 0.15);\n",
              "      fill: #174EA6;\n",
              "    }\n",
              "\n",
              "    .colab-df-buttons div {\n",
              "      margin-bottom: 4px;\n",
              "    }\n",
              "\n",
              "    [theme=dark] .colab-df-convert {\n",
              "      background-color: #3B4455;\n",
              "      fill: #D2E3FC;\n",
              "    }\n",
              "\n",
              "    [theme=dark] .colab-df-convert:hover {\n",
              "      background-color: #434B5C;\n",
              "      box-shadow: 0px 1px 3px 1px rgba(0, 0, 0, 0.15);\n",
              "      filter: drop-shadow(0px 1px 2px rgba(0, 0, 0, 0.3));\n",
              "      fill: #FFFFFF;\n",
              "    }\n",
              "  </style>\n",
              "\n",
              "    <script>\n",
              "      const buttonEl =\n",
              "        document.querySelector('#df-5aa12310-3f64-4b25-9b97-1c458efec28e button.colab-df-convert');\n",
              "      buttonEl.style.display =\n",
              "        google.colab.kernel.accessAllowed ? 'block' : 'none';\n",
              "\n",
              "      async function convertToInteractive(key) {\n",
              "        const element = document.querySelector('#df-5aa12310-3f64-4b25-9b97-1c458efec28e');\n",
              "        const dataTable =\n",
              "          await google.colab.kernel.invokeFunction('convertToInteractive',\n",
              "                                                    [key], {});\n",
              "        if (!dataTable) return;\n",
              "\n",
              "        const docLinkHtml = 'Like what you see? Visit the ' +\n",
              "          '<a target=\"_blank\" href=https://colab.research.google.com/notebooks/data_table.ipynb>data table notebook</a>'\n",
              "          + ' to learn more about interactive tables.';\n",
              "        element.innerHTML = '';\n",
              "        dataTable['output_type'] = 'display_data';\n",
              "        await google.colab.output.renderOutput(dataTable, element);\n",
              "        const docLink = document.createElement('div');\n",
              "        docLink.innerHTML = docLinkHtml;\n",
              "        element.appendChild(docLink);\n",
              "      }\n",
              "    </script>\n",
              "  </div>\n",
              "\n",
              "\n",
              "<div id=\"df-e6293d1b-526f-4ad6-85f1-cbe516f09e5b\">\n",
              "  <button class=\"colab-df-quickchart\" onclick=\"quickchart('df-e6293d1b-526f-4ad6-85f1-cbe516f09e5b')\"\n",
              "            title=\"Suggest charts\"\n",
              "            style=\"display:none;\">\n",
              "\n",
              "<svg xmlns=\"http://www.w3.org/2000/svg\" height=\"24px\"viewBox=\"0 0 24 24\"\n",
              "     width=\"24px\">\n",
              "    <g>\n",
              "        <path d=\"M19 3H5c-1.1 0-2 .9-2 2v14c0 1.1.9 2 2 2h14c1.1 0 2-.9 2-2V5c0-1.1-.9-2-2-2zM9 17H7v-7h2v7zm4 0h-2V7h2v10zm4 0h-2v-4h2v4z\"/>\n",
              "    </g>\n",
              "</svg>\n",
              "  </button>\n",
              "\n",
              "<style>\n",
              "  .colab-df-quickchart {\n",
              "      --bg-color: #E8F0FE;\n",
              "      --fill-color: #1967D2;\n",
              "      --hover-bg-color: #E2EBFA;\n",
              "      --hover-fill-color: #174EA6;\n",
              "      --disabled-fill-color: #AAA;\n",
              "      --disabled-bg-color: #DDD;\n",
              "  }\n",
              "\n",
              "  [theme=dark] .colab-df-quickchart {\n",
              "      --bg-color: #3B4455;\n",
              "      --fill-color: #D2E3FC;\n",
              "      --hover-bg-color: #434B5C;\n",
              "      --hover-fill-color: #FFFFFF;\n",
              "      --disabled-bg-color: #3B4455;\n",
              "      --disabled-fill-color: #666;\n",
              "  }\n",
              "\n",
              "  .colab-df-quickchart {\n",
              "    background-color: var(--bg-color);\n",
              "    border: none;\n",
              "    border-radius: 50%;\n",
              "    cursor: pointer;\n",
              "    display: none;\n",
              "    fill: var(--fill-color);\n",
              "    height: 32px;\n",
              "    padding: 0;\n",
              "    width: 32px;\n",
              "  }\n",
              "\n",
              "  .colab-df-quickchart:hover {\n",
              "    background-color: var(--hover-bg-color);\n",
              "    box-shadow: 0 1px 2px rgba(60, 64, 67, 0.3), 0 1px 3px 1px rgba(60, 64, 67, 0.15);\n",
              "    fill: var(--button-hover-fill-color);\n",
              "  }\n",
              "\n",
              "  .colab-df-quickchart-complete:disabled,\n",
              "  .colab-df-quickchart-complete:disabled:hover {\n",
              "    background-color: var(--disabled-bg-color);\n",
              "    fill: var(--disabled-fill-color);\n",
              "    box-shadow: none;\n",
              "  }\n",
              "\n",
              "  .colab-df-spinner {\n",
              "    border: 2px solid var(--fill-color);\n",
              "    border-color: transparent;\n",
              "    border-bottom-color: var(--fill-color);\n",
              "    animation:\n",
              "      spin 1s steps(1) infinite;\n",
              "  }\n",
              "\n",
              "  @keyframes spin {\n",
              "    0% {\n",
              "      border-color: transparent;\n",
              "      border-bottom-color: var(--fill-color);\n",
              "      border-left-color: var(--fill-color);\n",
              "    }\n",
              "    20% {\n",
              "      border-color: transparent;\n",
              "      border-left-color: var(--fill-color);\n",
              "      border-top-color: var(--fill-color);\n",
              "    }\n",
              "    30% {\n",
              "      border-color: transparent;\n",
              "      border-left-color: var(--fill-color);\n",
              "      border-top-color: var(--fill-color);\n",
              "      border-right-color: var(--fill-color);\n",
              "    }\n",
              "    40% {\n",
              "      border-color: transparent;\n",
              "      border-right-color: var(--fill-color);\n",
              "      border-top-color: var(--fill-color);\n",
              "    }\n",
              "    60% {\n",
              "      border-color: transparent;\n",
              "      border-right-color: var(--fill-color);\n",
              "    }\n",
              "    80% {\n",
              "      border-color: transparent;\n",
              "      border-right-color: var(--fill-color);\n",
              "      border-bottom-color: var(--fill-color);\n",
              "    }\n",
              "    90% {\n",
              "      border-color: transparent;\n",
              "      border-bottom-color: var(--fill-color);\n",
              "    }\n",
              "  }\n",
              "</style>\n",
              "\n",
              "  <script>\n",
              "    async function quickchart(key) {\n",
              "      const quickchartButtonEl =\n",
              "        document.querySelector('#' + key + ' button');\n",
              "      quickchartButtonEl.disabled = true;  // To prevent multiple clicks.\n",
              "      quickchartButtonEl.classList.add('colab-df-spinner');\n",
              "      try {\n",
              "        const charts = await google.colab.kernel.invokeFunction(\n",
              "            'suggestCharts', [key], {});\n",
              "      } catch (error) {\n",
              "        console.error('Error during call to suggestCharts:', error);\n",
              "      }\n",
              "      quickchartButtonEl.classList.remove('colab-df-spinner');\n",
              "      quickchartButtonEl.classList.add('colab-df-quickchart-complete');\n",
              "    }\n",
              "    (() => {\n",
              "      let quickchartButtonEl =\n",
              "        document.querySelector('#df-e6293d1b-526f-4ad6-85f1-cbe516f09e5b button');\n",
              "      quickchartButtonEl.style.display =\n",
              "        google.colab.kernel.accessAllowed ? 'block' : 'none';\n",
              "    })();\n",
              "  </script>\n",
              "</div>\n",
              "    </div>\n",
              "  </div>\n"
            ],
            "application/vnd.google.colaboratory.intrinsic+json": {
              "type": "dataframe",
              "variable_name": "data"
            }
          },
          "metadata": {},
          "execution_count": 5
        }
      ],
      "source": [
        "data = pd.read_pickle(PATH / \"data.pkl\")\n",
        "data[\"rub_rate\"] = data[\"rub_rate\"] / 100\n",
        "data.dropna(inplace=True)\n",
        "data"
      ]
    },
    {
      "cell_type": "code",
      "execution_count": 6,
      "metadata": {
        "id": "8UKB-Db2PqIK"
      },
      "outputs": [],
      "source": [
        "import abc\n",
        "\n",
        "import numpy as np\n",
        "\n",
        "from enum import Enum\n",
        "\n",
        "\n",
        "class PositionSide(Enum):\n",
        "    LONG = 1\n",
        "    SHORT = -1\n",
        "\n",
        "\n",
        "\n",
        "class Instrument:\n",
        "    CALENDAR_DAYS: int = 365\n",
        "\n",
        "    def __init__(self):\n",
        "        pass\n",
        "\n",
        "    def bid(self, margin: float) -> float:\n",
        "        return self.price() - margin\n",
        "\n",
        "    def offer(self, margin: float) -> float:\n",
        "        return self.price() + margin\n",
        "\n",
        "    @staticmethod\n",
        "    def discount_factor(rate: float, term: float) -> float:\n",
        "        return np.exp(-rate * term)\n",
        "\n",
        "    @abc.abstractmethod\n",
        "    def coupon(self, frequency: float = 0., *args, **kwargs) -> float:\n",
        "        raise NotImplementedError\n",
        "\n",
        "    @abc.abstractmethod\n",
        "    def pv_coupons(self) -> float:\n",
        "        raise NotImplementedError\n",
        "\n",
        "    @abc.abstractmethod\n",
        "    def price(self, spot_start: [float, list[float], None] = None) -> float:\n",
        "        raise NotImplementedError\n",
        "\n",
        "    @abc.abstractmethod\n",
        "    def payoff(self, spot: [np.array, float]) -> float:\n",
        "        raise NotImplementedError\n",
        "\n",
        "    @abc.abstractmethod\n",
        "    def __repr__(self):\n",
        "        raise NotImplementedError\n",
        "\n",
        "    def __str__(self):\n",
        "        return self.__repr__()\n",
        "\n",
        "    def __add__(self, other):\n",
        "        return StructuredNote([(PositionSide.LONG, self), (PositionSide.LONG, other)])\n",
        "\n",
        "    def __sub__(self, other):\n",
        "        return StructuredNote([(PositionSide.LONG, self), (PositionSide.SHORT, other)])\n",
        "\n",
        "\n",
        "class StructuredNote:\n",
        "    def __init__(self, instruments: [list[tuple[PositionSide, Instrument]], None] = None):\n",
        "        if instruments is not None:\n",
        "            self.instruments = instruments\n",
        "        else:\n",
        "            self.instruments = []\n",
        "\n",
        "    def bid(self, margin: float) -> float:\n",
        "        return self.price() - margin\n",
        "\n",
        "    def offer(self, margin: float) -> float:\n",
        "        return self.price() + margin\n",
        "\n",
        "    def coupon(self, frequency: float = 0., commission: float = 0., *args, **kwargs) -> float:\n",
        "        return sum([instrument.coupon(frequency, commission) for _, instrument in self.instruments])\n",
        "\n",
        "    def __add__(self, other: Instrument):\n",
        "        return self.instruments.append((PositionSide.LONG, other))\n",
        "\n",
        "    def __sub__(self, other: Instrument):\n",
        "        return self.instruments.append((PositionSide.SHORT, other))\n",
        "\n",
        "    def price(self) -> float:\n",
        "        return sum([side.value * instrument.price() + instrument.pv_coupons() for side, instrument in self.instruments])\n",
        "\n",
        "    def payoff(self, spot_paths: np.array) -> float:\n",
        "        return sum([side.value * instrument.payoff(spot_paths) for side, instrument in self.instruments])\n",
        "\n",
        "    def __repr__(self):\n",
        "        sp_str = f\"StructuredNote of:\\n\"\n",
        "        for side, instrument in self.instruments:\n",
        "            sp_str += f\"* {side} -> {instrument}\\n\"\n",
        "        return sp_str\n",
        "\n",
        "    def __str__(self):\n",
        "        return self.__repr__()\n"
      ]
    },
    {
      "cell_type": "code",
      "execution_count": 7,
      "metadata": {
        "id": "WSq4YrPxPsBP"
      },
      "outputs": [],
      "source": [
        "import numpy as np\n",
        "\n",
        "\n",
        "class Forward(Instrument):\n",
        "    def __init__(\n",
        "            self,\n",
        "            rates_difference: float,\n",
        "            spot_price: float,\n",
        "            term: float,\n",
        "            *args,\n",
        "            **kwargs\n",
        "    ):\n",
        "        super().__init__()\n",
        "        self.rates_difference = rates_difference\n",
        "        self.spot_price = spot_price\n",
        "        self.term = term\n",
        "\n",
        "    def coupon(self, frequency: float = 0., *args, **kwargs) -> float:\n",
        "        return 0\n",
        "\n",
        "    def pv_coupons(self) -> float:\n",
        "        return 0\n",
        "\n",
        "    def get_strike(self, spot_price: [float, None] = None) -> float:\n",
        "        if spot_price is None:\n",
        "            spot_price = self.spot_price\n",
        "        return spot_price * self.discount_factor(rate=-self.rates_difference, term=self.term)\n",
        "\n",
        "    @property\n",
        "    def strike(self) -> float:\n",
        "        return self.get_strike()\n",
        "\n",
        "    def price(self, spot_start: [float, list[float], None] = None) -> float:\n",
        "        return 0\n",
        "\n",
        "    def payoff(self, spot: [float, np.array]) -> float:\n",
        "        return spot - self.strike\n",
        "\n",
        "    def __repr__(self):\n",
        "        return f\"Forward(strike={self.strike}, term={self.term}, spot_ref={self.spot_price})\"\n"
      ]
    },
    {
      "cell_type": "code",
      "execution_count": 8,
      "metadata": {
        "id": "Na70Ea_A7hoi"
      },
      "outputs": [],
      "source": [
        "import numpy as np\n",
        "\n",
        "\n",
        "class EuropeanCall(Instrument):\n",
        "    def __init__(\n",
        "            self,\n",
        "            rates_difference: float,\n",
        "            spot_price: float,\n",
        "            term: float,\n",
        "            *args,\n",
        "            **kwargs\n",
        "    ):\n",
        "        super().__init__()\n",
        "        self.rates_difference = rates_difference\n",
        "        self.spot_price = spot_price\n",
        "        self.term = term\n",
        "\n",
        "    def coupon(self, frequency: float = 0., *args, **kwargs) -> float:\n",
        "        return 0\n",
        "\n",
        "    def pv_coupons(self) -> float:\n",
        "        return 0\n",
        "\n",
        "    def get_strike(self, spot_price: [float, None] = None) -> float:\n",
        "        return self.spot_price\n",
        "\n",
        "    @property\n",
        "    def strike(self) -> float:\n",
        "        return self.get_strike()\n",
        "\n",
        "    def price(self, spot_start: [float, list[float], None] = None) -> float:\n",
        "        return 0\n",
        "\n",
        "    def payoff(self, spot: [float, np.array]) -> float:\n",
        "        return max(spot - self.strike, 0)\n",
        "\n",
        "    def __repr__(self):\n",
        "        return f\"EuropeanCall(strike={self.strike}, term={self.term}, spot_ref={self.spot_price})\""
      ]
    },
    {
      "cell_type": "code",
      "execution_count": 9,
      "metadata": {
        "id": "Mou9GCV8Onar"
      },
      "outputs": [],
      "source": [
        "# from src.base.instrument import Instrument\n",
        "# from src.forward.forward import Forward\n",
        "\n",
        "\n",
        "def create_instrument(period_df: pd.DataFrame) -> Instrument:\n",
        "    start = period_df.loc[period_df.index.min()]\n",
        "    return EuropeanCall(\n",
        "        rates_difference=start[\"rub_rate\"] - start[\"usd_rate\"],\n",
        "        spot_price=start[\"ask\"],\n",
        "        term=N_DAYS / 365\n",
        "    )"
      ]
    },
    {
      "cell_type": "code",
      "execution_count": 10,
      "metadata": {
        "colab": {
          "base_uri": "https://localhost:8080/",
          "height": 450
        },
        "id": "JgRMD8IqOnar",
        "outputId": "8c879fa8-774a-44c9-f8a5-a5ecea4f8854"
      },
      "outputs": [
        {
          "output_type": "execute_result",
          "data": {
            "text/plain": [
              "                                 bid        ask  rub_rate  usd_rate\n",
              "timestamp                                                          \n",
              "2017-01-03 07:00:00+00:00  60.973760  61.016500  0.081265  0.006720\n",
              "2017-01-03 07:01:00+00:00  61.010855  61.068045  0.081265  0.006720\n",
              "2017-01-03 07:02:00+00:00  61.037220  61.069850  0.081265  0.006720\n",
              "2017-01-03 07:03:00+00:00  61.011955  61.048690  0.081265  0.006720\n",
              "2017-01-03 07:04:00+00:00  61.021250  61.052835  0.081265  0.006720\n",
              "...                              ...        ...       ...       ...\n",
              "2017-01-06 20:45:00+00:00  59.593105  59.609935  0.080748  0.004992\n",
              "2017-01-06 20:46:00+00:00  59.606395  59.632965  0.080748  0.004992\n",
              "2017-01-06 20:47:00+00:00  59.601450  59.636325  0.080748  0.004992\n",
              "2017-01-06 20:48:00+00:00  59.591015  59.632855  0.080748  0.004992\n",
              "2017-01-06 20:49:00+00:00  59.587220  59.633300  0.080748  0.004992\n",
              "\n",
              "[3320 rows x 4 columns]"
            ],
            "text/html": [
              "\n",
              "  <div id=\"df-bbe78c37-ad7f-4dc9-8ae1-57a3959a5629\" class=\"colab-df-container\">\n",
              "    <div>\n",
              "<style scoped>\n",
              "    .dataframe tbody tr th:only-of-type {\n",
              "        vertical-align: middle;\n",
              "    }\n",
              "\n",
              "    .dataframe tbody tr th {\n",
              "        vertical-align: top;\n",
              "    }\n",
              "\n",
              "    .dataframe thead th {\n",
              "        text-align: right;\n",
              "    }\n",
              "</style>\n",
              "<table border=\"1\" class=\"dataframe\">\n",
              "  <thead>\n",
              "    <tr style=\"text-align: right;\">\n",
              "      <th></th>\n",
              "      <th>bid</th>\n",
              "      <th>ask</th>\n",
              "      <th>rub_rate</th>\n",
              "      <th>usd_rate</th>\n",
              "    </tr>\n",
              "    <tr>\n",
              "      <th>timestamp</th>\n",
              "      <th></th>\n",
              "      <th></th>\n",
              "      <th></th>\n",
              "      <th></th>\n",
              "    </tr>\n",
              "  </thead>\n",
              "  <tbody>\n",
              "    <tr>\n",
              "      <th>2017-01-03 07:00:00+00:00</th>\n",
              "      <td>60.973760</td>\n",
              "      <td>61.016500</td>\n",
              "      <td>0.081265</td>\n",
              "      <td>0.006720</td>\n",
              "    </tr>\n",
              "    <tr>\n",
              "      <th>2017-01-03 07:01:00+00:00</th>\n",
              "      <td>61.010855</td>\n",
              "      <td>61.068045</td>\n",
              "      <td>0.081265</td>\n",
              "      <td>0.006720</td>\n",
              "    </tr>\n",
              "    <tr>\n",
              "      <th>2017-01-03 07:02:00+00:00</th>\n",
              "      <td>61.037220</td>\n",
              "      <td>61.069850</td>\n",
              "      <td>0.081265</td>\n",
              "      <td>0.006720</td>\n",
              "    </tr>\n",
              "    <tr>\n",
              "      <th>2017-01-03 07:03:00+00:00</th>\n",
              "      <td>61.011955</td>\n",
              "      <td>61.048690</td>\n",
              "      <td>0.081265</td>\n",
              "      <td>0.006720</td>\n",
              "    </tr>\n",
              "    <tr>\n",
              "      <th>2017-01-03 07:04:00+00:00</th>\n",
              "      <td>61.021250</td>\n",
              "      <td>61.052835</td>\n",
              "      <td>0.081265</td>\n",
              "      <td>0.006720</td>\n",
              "    </tr>\n",
              "    <tr>\n",
              "      <th>...</th>\n",
              "      <td>...</td>\n",
              "      <td>...</td>\n",
              "      <td>...</td>\n",
              "      <td>...</td>\n",
              "    </tr>\n",
              "    <tr>\n",
              "      <th>2017-01-06 20:45:00+00:00</th>\n",
              "      <td>59.593105</td>\n",
              "      <td>59.609935</td>\n",
              "      <td>0.080748</td>\n",
              "      <td>0.004992</td>\n",
              "    </tr>\n",
              "    <tr>\n",
              "      <th>2017-01-06 20:46:00+00:00</th>\n",
              "      <td>59.606395</td>\n",
              "      <td>59.632965</td>\n",
              "      <td>0.080748</td>\n",
              "      <td>0.004992</td>\n",
              "    </tr>\n",
              "    <tr>\n",
              "      <th>2017-01-06 20:47:00+00:00</th>\n",
              "      <td>59.601450</td>\n",
              "      <td>59.636325</td>\n",
              "      <td>0.080748</td>\n",
              "      <td>0.004992</td>\n",
              "    </tr>\n",
              "    <tr>\n",
              "      <th>2017-01-06 20:48:00+00:00</th>\n",
              "      <td>59.591015</td>\n",
              "      <td>59.632855</td>\n",
              "      <td>0.080748</td>\n",
              "      <td>0.004992</td>\n",
              "    </tr>\n",
              "    <tr>\n",
              "      <th>2017-01-06 20:49:00+00:00</th>\n",
              "      <td>59.587220</td>\n",
              "      <td>59.633300</td>\n",
              "      <td>0.080748</td>\n",
              "      <td>0.004992</td>\n",
              "    </tr>\n",
              "  </tbody>\n",
              "</table>\n",
              "<p>3320 rows × 4 columns</p>\n",
              "</div>\n",
              "    <div class=\"colab-df-buttons\">\n",
              "\n",
              "  <div class=\"colab-df-container\">\n",
              "    <button class=\"colab-df-convert\" onclick=\"convertToInteractive('df-bbe78c37-ad7f-4dc9-8ae1-57a3959a5629')\"\n",
              "            title=\"Convert this dataframe to an interactive table.\"\n",
              "            style=\"display:none;\">\n",
              "\n",
              "  <svg xmlns=\"http://www.w3.org/2000/svg\" height=\"24px\" viewBox=\"0 -960 960 960\">\n",
              "    <path d=\"M120-120v-720h720v720H120Zm60-500h600v-160H180v160Zm220 220h160v-160H400v160Zm0 220h160v-160H400v160ZM180-400h160v-160H180v160Zm440 0h160v-160H620v160ZM180-180h160v-160H180v160Zm440 0h160v-160H620v160Z\"/>\n",
              "  </svg>\n",
              "    </button>\n",
              "\n",
              "  <style>\n",
              "    .colab-df-container {\n",
              "      display:flex;\n",
              "      gap: 12px;\n",
              "    }\n",
              "\n",
              "    .colab-df-convert {\n",
              "      background-color: #E8F0FE;\n",
              "      border: none;\n",
              "      border-radius: 50%;\n",
              "      cursor: pointer;\n",
              "      display: none;\n",
              "      fill: #1967D2;\n",
              "      height: 32px;\n",
              "      padding: 0 0 0 0;\n",
              "      width: 32px;\n",
              "    }\n",
              "\n",
              "    .colab-df-convert:hover {\n",
              "      background-color: #E2EBFA;\n",
              "      box-shadow: 0px 1px 2px rgba(60, 64, 67, 0.3), 0px 1px 3px 1px rgba(60, 64, 67, 0.15);\n",
              "      fill: #174EA6;\n",
              "    }\n",
              "\n",
              "    .colab-df-buttons div {\n",
              "      margin-bottom: 4px;\n",
              "    }\n",
              "\n",
              "    [theme=dark] .colab-df-convert {\n",
              "      background-color: #3B4455;\n",
              "      fill: #D2E3FC;\n",
              "    }\n",
              "\n",
              "    [theme=dark] .colab-df-convert:hover {\n",
              "      background-color: #434B5C;\n",
              "      box-shadow: 0px 1px 3px 1px rgba(0, 0, 0, 0.15);\n",
              "      filter: drop-shadow(0px 1px 2px rgba(0, 0, 0, 0.3));\n",
              "      fill: #FFFFFF;\n",
              "    }\n",
              "  </style>\n",
              "\n",
              "    <script>\n",
              "      const buttonEl =\n",
              "        document.querySelector('#df-bbe78c37-ad7f-4dc9-8ae1-57a3959a5629 button.colab-df-convert');\n",
              "      buttonEl.style.display =\n",
              "        google.colab.kernel.accessAllowed ? 'block' : 'none';\n",
              "\n",
              "      async function convertToInteractive(key) {\n",
              "        const element = document.querySelector('#df-bbe78c37-ad7f-4dc9-8ae1-57a3959a5629');\n",
              "        const dataTable =\n",
              "          await google.colab.kernel.invokeFunction('convertToInteractive',\n",
              "                                                    [key], {});\n",
              "        if (!dataTable) return;\n",
              "\n",
              "        const docLinkHtml = 'Like what you see? Visit the ' +\n",
              "          '<a target=\"_blank\" href=https://colab.research.google.com/notebooks/data_table.ipynb>data table notebook</a>'\n",
              "          + ' to learn more about interactive tables.';\n",
              "        element.innerHTML = '';\n",
              "        dataTable['output_type'] = 'display_data';\n",
              "        await google.colab.output.renderOutput(dataTable, element);\n",
              "        const docLink = document.createElement('div');\n",
              "        docLink.innerHTML = docLinkHtml;\n",
              "        element.appendChild(docLink);\n",
              "      }\n",
              "    </script>\n",
              "  </div>\n",
              "\n",
              "\n",
              "<div id=\"df-e64701da-769f-4250-8bf0-6d2cdd780b84\">\n",
              "  <button class=\"colab-df-quickchart\" onclick=\"quickchart('df-e64701da-769f-4250-8bf0-6d2cdd780b84')\"\n",
              "            title=\"Suggest charts\"\n",
              "            style=\"display:none;\">\n",
              "\n",
              "<svg xmlns=\"http://www.w3.org/2000/svg\" height=\"24px\"viewBox=\"0 0 24 24\"\n",
              "     width=\"24px\">\n",
              "    <g>\n",
              "        <path d=\"M19 3H5c-1.1 0-2 .9-2 2v14c0 1.1.9 2 2 2h14c1.1 0 2-.9 2-2V5c0-1.1-.9-2-2-2zM9 17H7v-7h2v7zm4 0h-2V7h2v10zm4 0h-2v-4h2v4z\"/>\n",
              "    </g>\n",
              "</svg>\n",
              "  </button>\n",
              "\n",
              "<style>\n",
              "  .colab-df-quickchart {\n",
              "      --bg-color: #E8F0FE;\n",
              "      --fill-color: #1967D2;\n",
              "      --hover-bg-color: #E2EBFA;\n",
              "      --hover-fill-color: #174EA6;\n",
              "      --disabled-fill-color: #AAA;\n",
              "      --disabled-bg-color: #DDD;\n",
              "  }\n",
              "\n",
              "  [theme=dark] .colab-df-quickchart {\n",
              "      --bg-color: #3B4455;\n",
              "      --fill-color: #D2E3FC;\n",
              "      --hover-bg-color: #434B5C;\n",
              "      --hover-fill-color: #FFFFFF;\n",
              "      --disabled-bg-color: #3B4455;\n",
              "      --disabled-fill-color: #666;\n",
              "  }\n",
              "\n",
              "  .colab-df-quickchart {\n",
              "    background-color: var(--bg-color);\n",
              "    border: none;\n",
              "    border-radius: 50%;\n",
              "    cursor: pointer;\n",
              "    display: none;\n",
              "    fill: var(--fill-color);\n",
              "    height: 32px;\n",
              "    padding: 0;\n",
              "    width: 32px;\n",
              "  }\n",
              "\n",
              "  .colab-df-quickchart:hover {\n",
              "    background-color: var(--hover-bg-color);\n",
              "    box-shadow: 0 1px 2px rgba(60, 64, 67, 0.3), 0 1px 3px 1px rgba(60, 64, 67, 0.15);\n",
              "    fill: var(--button-hover-fill-color);\n",
              "  }\n",
              "\n",
              "  .colab-df-quickchart-complete:disabled,\n",
              "  .colab-df-quickchart-complete:disabled:hover {\n",
              "    background-color: var(--disabled-bg-color);\n",
              "    fill: var(--disabled-fill-color);\n",
              "    box-shadow: none;\n",
              "  }\n",
              "\n",
              "  .colab-df-spinner {\n",
              "    border: 2px solid var(--fill-color);\n",
              "    border-color: transparent;\n",
              "    border-bottom-color: var(--fill-color);\n",
              "    animation:\n",
              "      spin 1s steps(1) infinite;\n",
              "  }\n",
              "\n",
              "  @keyframes spin {\n",
              "    0% {\n",
              "      border-color: transparent;\n",
              "      border-bottom-color: var(--fill-color);\n",
              "      border-left-color: var(--fill-color);\n",
              "    }\n",
              "    20% {\n",
              "      border-color: transparent;\n",
              "      border-left-color: var(--fill-color);\n",
              "      border-top-color: var(--fill-color);\n",
              "    }\n",
              "    30% {\n",
              "      border-color: transparent;\n",
              "      border-left-color: var(--fill-color);\n",
              "      border-top-color: var(--fill-color);\n",
              "      border-right-color: var(--fill-color);\n",
              "    }\n",
              "    40% {\n",
              "      border-color: transparent;\n",
              "      border-right-color: var(--fill-color);\n",
              "      border-top-color: var(--fill-color);\n",
              "    }\n",
              "    60% {\n",
              "      border-color: transparent;\n",
              "      border-right-color: var(--fill-color);\n",
              "    }\n",
              "    80% {\n",
              "      border-color: transparent;\n",
              "      border-right-color: var(--fill-color);\n",
              "      border-bottom-color: var(--fill-color);\n",
              "    }\n",
              "    90% {\n",
              "      border-color: transparent;\n",
              "      border-bottom-color: var(--fill-color);\n",
              "    }\n",
              "  }\n",
              "</style>\n",
              "\n",
              "  <script>\n",
              "    async function quickchart(key) {\n",
              "      const quickchartButtonEl =\n",
              "        document.querySelector('#' + key + ' button');\n",
              "      quickchartButtonEl.disabled = true;  // To prevent multiple clicks.\n",
              "      quickchartButtonEl.classList.add('colab-df-spinner');\n",
              "      try {\n",
              "        const charts = await google.colab.kernel.invokeFunction(\n",
              "            'suggestCharts', [key], {});\n",
              "      } catch (error) {\n",
              "        console.error('Error during call to suggestCharts:', error);\n",
              "      }\n",
              "      quickchartButtonEl.classList.remove('colab-df-spinner');\n",
              "      quickchartButtonEl.classList.add('colab-df-quickchart-complete');\n",
              "    }\n",
              "    (() => {\n",
              "      let quickchartButtonEl =\n",
              "        document.querySelector('#df-e64701da-769f-4250-8bf0-6d2cdd780b84 button');\n",
              "      quickchartButtonEl.style.display =\n",
              "        google.colab.kernel.accessAllowed ? 'block' : 'none';\n",
              "    })();\n",
              "  </script>\n",
              "</div>\n",
              "    </div>\n",
              "  </div>\n"
            ],
            "application/vnd.google.colaboratory.intrinsic+json": {
              "type": "dataframe",
              "summary": "{\n  \"name\": \"data[(data\",\n  \"rows\": 3320,\n  \"fields\": [\n    {\n      \"column\": \"timestamp\",\n      \"properties\": {\n        \"dtype\": \"date\",\n        \"min\": \"2017-01-03 07:00:00+00:00\",\n        \"max\": \"2017-01-06 20:49:00+00:00\",\n        \"num_unique_values\": 3320,\n        \"samples\": [\n          \"2017-01-04 14:42:00+00:00\",\n          \"2017-01-05 17:58:00+00:00\",\n          \"2017-01-06 09:33:00+00:00\"\n        ],\n        \"semantic_type\": \"\",\n        \"description\": \"\"\n      }\n    },\n    {\n      \"column\": \"bid\",\n      \"properties\": {\n        \"dtype\": \"number\",\n        \"std\": 0.6290156000899786,\n        \"min\": 59.100595,\n        \"max\": 61.272425,\n        \"num_unique_values\": 3197,\n        \"samples\": [\n          59.55951,\n          60.664825,\n          59.30233\n        ],\n        \"semantic_type\": \"\",\n        \"description\": \"\"\n      }\n    },\n    {\n      \"column\": \"ask\",\n      \"properties\": {\n        \"dtype\": \"number\",\n        \"std\": 0.6263626712273502,\n        \"min\": 59.12163,\n        \"max\": 61.29358,\n        \"num_unique_values\": 3233,\n        \"samples\": [\n          61.12343,\n          60.50975,\n          60.63109\n        ],\n        \"semantic_type\": \"\",\n        \"description\": \"\"\n      }\n    },\n    {\n      \"column\": \"rub_rate\",\n      \"properties\": {\n        \"dtype\": \"number\",\n        \"std\": 0.0002782349301107278,\n        \"min\": 0.08074847788067535,\n        \"max\": 0.08146303545811356,\n        \"num_unique_values\": 4,\n        \"samples\": [\n          0.08093545051817376,\n          0.08074847788067535,\n          0.08126480591720257\n        ],\n        \"semantic_type\": \"\",\n        \"description\": \"\"\n      }\n    },\n    {\n      \"column\": \"usd_rate\",\n      \"properties\": {\n        \"dtype\": \"number\",\n        \"std\": 0.00048812295793807984,\n        \"min\": 0.004991965947878549,\n        \"max\": 0.006720487972047704,\n        \"num_unique_values\": 4,\n        \"samples\": [\n          0.005592670693635542,\n          0.004991965947878549,\n          0.006720487972047704\n        ],\n        \"semantic_type\": \"\",\n        \"description\": \"\"\n      }\n    }\n  ]\n}"
            }
          },
          "metadata": {},
          "execution_count": 10
        }
      ],
      "source": [
        "import datetime as dt\n",
        "\n",
        "start_date = data.index.min()\n",
        "end_date = start_date + dt.timedelta(days=N_DAYS)\n",
        "data[(data.index >= data.index.min()) & (data.index <= end_date)]"
      ]
    },
    {
      "cell_type": "code",
      "execution_count": 11,
      "metadata": {
        "colab": {
          "base_uri": "https://localhost:8080/"
        },
        "id": "BdcEuFc0Onas",
        "outputId": "7e37abfe-eaa0-48b0-d318-4dc293bedc2e"
      },
      "outputs": [
        {
          "output_type": "execute_result",
          "data": {
            "text/plain": [
              "EuropeanCall(strike=61.0165, term=0.0136986301369863, spot_ref=61.0165)"
            ]
          },
          "metadata": {},
          "execution_count": 11
        }
      ],
      "source": [
        "call = create_instrument(data[(data.index >= data.index.min()) & (data.index <= end_date)])\n",
        "call"
      ]
    },
    {
      "cell_type": "markdown",
      "metadata": {
        "id": "cty5h8mOOnas"
      },
      "source": [
        "## Dataset."
      ]
    },
    {
      "cell_type": "code",
      "execution_count": 46,
      "metadata": {
        "id": "HVpgB39EzM9H"
      },
      "outputs": [],
      "source": [
        "from typing import Union, Type\n",
        "from torch.utils.data import Dataset\n",
        "\n",
        "# from src.base.instrument import Instrument\n",
        "\n",
        "\n",
        "class SpotDataset(Dataset):\n",
        "    BID_COLUMN: str = \"bid\"\n",
        "    ASK_COLUMN: str = \"ask\"\n",
        "    RATE_DOMESTIC_COLUMN: str = \"rub_rate\"\n",
        "    RATE_FOREIGN_COLUMN: str = \"usd_rate\"\n",
        "\n",
        "    TRADING_DAYS: int = 252\n",
        "\n",
        "    def __init__(\n",
        "            self,\n",
        "            instrument_cls: Type[Instrument],\n",
        "            n_days: int = N_DAYS,\n",
        "            path: Path = PATH,\n",
        "            data: Union[pd.DataFrame, None] = None\n",
        "    ):\n",
        "        self.instrument_cls = instrument_cls\n",
        "        self.n_days = n_days\n",
        "\n",
        "        self.data = self._create_df(path) if data is None else data.copy()\n",
        "\n",
        "        self.data[\"time_diff\"] = self.data.index.to_series().diff()\n",
        "        self.data.loc[self.data.index[0], \"time_diff\"] = pd.to_timedelta(\"0 days 00:00:00\")\n",
        "        self.data[\"time_diff\"] = self.data[\"time_diff\"].cumsum() / np.timedelta64(1, 'D') / 365\n",
        "        # self.data[\"rub_rate\"] = self.data[\"rub_rate\"] / 100\n",
        "\n",
        "        # self.data = self.data.dropna()\n",
        "        self.data = self.data.ffill()\n",
        "        # self.X, self.y = self._create_dataset()\n",
        "\n",
        "    @staticmethod\n",
        "    def _create_df(path: Path) -> pd.DataFrame:\n",
        "        if \"data.pkl\" in os.listdir(path):\n",
        "            return pd.read_pickle(PATH / \"data.pkl\")\n",
        "        else:\n",
        "            pass\n",
        "\n",
        "    def _create_instrument(self, period_df: pd.DataFrame) -> Instrument:\n",
        "        start = period_df.loc[period_df.index.min()]\n",
        "        spot_start = (start[\"bid\"] + start[\"ask\"]) / 2\n",
        "        return self.instrument_cls(\n",
        "            rates_difference=start[\"rub_rate\"] - start[\"usd_rate\"],\n",
        "            spot_price=spot_start,\n",
        "            term=N_DAYS / 365\n",
        "        ), spot_start\n",
        "\n",
        "    def __len__(self):\n",
        "        return len(self.data[self.data.index < self.data.index.max() - dt.timedelta(days=self.n_days)])\n",
        "\n",
        "    def __getitem__(self, idx: int):\n",
        "        start_date = self.data.index[idx]\n",
        "        end_date = start_date + dt.timedelta(days=self.n_days)\n",
        "\n",
        "        features = self.data[(self.data.index >= start_date) & (self.data.index <= end_date)].copy()\n",
        "        features[\"time_diff\"] = features.iloc[-1, -1] - features[\"time_diff\"]\n",
        "        instrument, spot_start = self._create_instrument(features)\n",
        "        # features[\"spot_start\"] = spot_start\n",
        "        target = instrument.payoff(spot=features.ask.iloc[-1])\n",
        "\n",
        "        return torch.Tensor(features.to_numpy()).to(torch.float32), torch.Tensor([target]).to(torch.float32)\n",
        "\n",
        "    @property\n",
        "    def average_dt(self):\n",
        "        return self.data.index.to_series().diff(1).mean() / (np.timedelta64(1, 'D') * self.TRADING_DAYS)"
      ]
    },
    {
      "cell_type": "code",
      "execution_count": 47,
      "metadata": {
        "id": "uARQpAIhOnat",
        "colab": {
          "base_uri": "https://localhost:8080/"
        },
        "outputId": "cf6f79b6-d532-4600-f837-6cd050a5fd63"
      },
      "outputs": [
        {
          "output_type": "execute_result",
          "data": {
            "text/plain": [
              "2.7557319223985893e-06"
            ]
          },
          "metadata": {},
          "execution_count": 47
        }
      ],
      "source": [
        "spot_dataset = SpotDataset(instrument_cls=EuropeanCall)\n",
        "AVERAGE_DT = spot_dataset.average_dt\n",
        "AVERAGE_DT"
      ]
    },
    {
      "cell_type": "code",
      "execution_count": 48,
      "metadata": {
        "id": "DSRMeUecOnau",
        "colab": {
          "base_uri": "https://localhost:8080/"
        },
        "outputId": "5230ec38-62b7-4299-fa16-ae002993abf6"
      },
      "outputs": [
        {
          "output_type": "execute_result",
          "data": {
            "text/plain": [
              "(tensor([[6.1037e+01, 6.1070e+01, 8.1265e+00, 6.7205e-03, 1.3699e-02],\n",
              "         [6.1012e+01, 6.1049e+01, 8.1265e+00, 6.7205e-03, 1.3697e-02],\n",
              "         [6.1021e+01, 6.1053e+01, 8.1265e+00, 6.7205e-03, 1.3695e-02],\n",
              "         ...,\n",
              "         [5.9587e+01, 5.9633e+01, 8.0748e+00, 5.2365e-03, 3.8052e-06],\n",
              "         [5.9587e+01, 5.9633e+01, 8.0748e+00, 5.2365e-03, 1.9026e-06],\n",
              "         [5.9587e+01, 5.9633e+01, 8.0748e+00, 5.2365e-03, 0.0000e+00]]),\n",
              " tensor([0.]))"
            ]
          },
          "metadata": {},
          "execution_count": 48
        }
      ],
      "source": [
        "spot_dataset[2]"
      ]
    },
    {
      "cell_type": "code",
      "execution_count": 15,
      "metadata": {
        "colab": {
          "base_uri": "https://localhost:8080/"
        },
        "id": "LAQJ_pvEOnau",
        "outputId": "932f0a51-04b1-4d16-f5a6-a3091c1db4da"
      },
      "outputs": [
        {
          "output_type": "execute_result",
          "data": {
            "text/plain": [
              "tensor(5.)"
            ]
          },
          "metadata": {},
          "execution_count": 15
        }
      ],
      "source": [
        "spot_dataset[0][0][-1][-1] * 365"
      ]
    },
    {
      "cell_type": "code",
      "execution_count": 16,
      "metadata": {
        "id": "oNFI-9syOnav"
      },
      "outputs": [],
      "source": [
        "def get_pnl(spot: torch.Tensor, weights: torch.Tensor, dt: float = AVERAGE_DT) -> torch.float32:\n",
        "    model_device = spot.device\n",
        "    weights_all = torch.concat([torch.zeros(spot.shape[0], 1, requires_grad=False).to(model_device), weights,\n",
        "                                torch.zeros(spot.shape[0], 1, requires_grad=False).to(model_device)], dim=1)\n",
        "    weights_diff = weights_all.diff(n=1, dim=1)\n",
        "\n",
        "    rates_diff = spot[:, :, 2] - spot[:, :, 3]\n",
        "\n",
        "    bought = torch.where(weights_diff > 0, weights_diff, 0)\n",
        "    sold = torch.where(weights_diff < 0, weights_diff, 0)\n",
        "\n",
        "    interest = (rates_diff * -weights_all).sum(dim=1) * dt\n",
        "\n",
        "    cash_outflow = (-spot[:, 1:, 1] * bought).sum(dim=1)\n",
        "    cash_inflow = (-spot[:, 1:, 0] * sold).sum(dim=1)\n",
        "\n",
        "    return (cash_outflow + cash_inflow + interest).unsqueeze(1)"
      ]
    },
    {
      "cell_type": "code",
      "execution_count": 17,
      "metadata": {
        "id": "PuiJpFh0Onav"
      },
      "outputs": [],
      "source": [
        "class NeuralHedger(nn.Module):\n",
        "    def __init__(self, input_size: int = 5, num_layers: int = 3, hidden_size: int = 32, dt: float = AVERAGE_DT):\n",
        "        super().__init__()\n",
        "        self.input_size = input_size\n",
        "        self.num_layers = num_layers\n",
        "        self.hidden_size = hidden_size\n",
        "        self.dt = dt\n",
        "\n",
        "        self.lstm = nn.LSTM(input_size, self.hidden_size, num_layers=num_layers, batch_first=True)\n",
        "\n",
        "        self.hedging_weights = nn.Sequential(\n",
        "            nn.Linear(self.hidden_size, self.hidden_size),\n",
        "            nn.ReLU(),\n",
        "            nn.Linear(self.hidden_size, self.hidden_size),\n",
        "            nn.ReLU(),\n",
        "            nn.Linear(self.hidden_size, 1)\n",
        "        )\n",
        "\n",
        "    def forward(self, spot: torch.Tensor, hidden: [(torch.Tensor), None] = None, return_hidden: bool = False) -> [\n",
        "        torch.Tensor,\n",
        "        (torch.Tensor, torch.Tensor, torch.Tensor)]:\n",
        "        model_device = spot.device\n",
        "        if hidden is None:\n",
        "            h_t = torch.zeros(self.num_layers, spot.size(0), self.hidden_size, dtype=torch.float32).to(model_device)\n",
        "            c_t = torch.zeros(self.num_layers, spot.size(0), self.hidden_size, dtype=torch.float32).to(model_device)\n",
        "        elif len(hidden) != 2:\n",
        "            raise ValueError(f\"Expected two hidden state variables, got {len(hidden)}\")\n",
        "        else:\n",
        "            h_t, c_t = hidden\n",
        "\n",
        "        h_t, c_t = self.lstm(spot, (h_t, c_t))\n",
        "        outputs = self.hedging_weights(h_t)[:, 1:-1, :].squeeze(2)\n",
        "\n",
        "        if return_hidden:\n",
        "            return outputs, (h_t, c_t)\n",
        "        else:\n",
        "            return outputs\n",
        "\n",
        "    def get_pnl(self, spot: torch.Tensor) -> [torch.Tensor, torch.float32]:\n",
        "        # hedging_weights = nn.Softmax()(self.forward(spot, return_hidden=False), dim=XXX)\n",
        "        hedging_weights = self.forward(spot, return_hidden=False)\n",
        "        return hedging_weights, get_pnl(spot=spot, weights=hedging_weights, dt=self.dt)"
      ]
    },
    {
      "cell_type": "code",
      "execution_count": 18,
      "metadata": {
        "id": "hi-6nEFNOnav",
        "colab": {
          "base_uri": "https://localhost:8080/"
        },
        "outputId": "bb5d8cc4-ab12-4c75-b50e-dfcc3e9de461"
      },
      "outputs": [
        {
          "output_type": "stream",
          "name": "stdout",
          "text": [
            "torch.Size([32, 7201, 5])\n"
          ]
        },
        {
          "output_type": "execute_result",
          "data": {
            "text/plain": [
              "(tensor([[0.0753, 0.0756, 0.0756,  ..., 0.0745, 0.0745, 0.0745],\n",
              "         [0.0753, 0.0756, 0.0755,  ..., 0.0745, 0.0745, 0.0745],\n",
              "         [0.0753, 0.0756, 0.0755,  ..., 0.0744, 0.0744, 0.0744],\n",
              "         ...,\n",
              "         [0.0753, 0.0756, 0.0755,  ..., 0.0743, 0.0743, 0.0743],\n",
              "         [0.0754, 0.0756, 0.0755,  ..., 0.0742, 0.0742, 0.0742],\n",
              "         [0.0754, 0.0756, 0.0755,  ..., 0.0742, 0.0742, 0.0742]],\n",
              "        grad_fn=<SqueezeBackward1>),\n",
              " tensor([[ 0.3192],\n",
              "         [ 0.0405],\n",
              "         [ 0.1556],\n",
              "         [-0.0540],\n",
              "         [-0.0640],\n",
              "         [ 0.0139],\n",
              "         [-0.0753],\n",
              "         [ 0.0037],\n",
              "         [-0.0059],\n",
              "         [ 0.0160],\n",
              "         [ 0.0221],\n",
              "         [-0.0347],\n",
              "         [ 0.0120],\n",
              "         [ 0.0328],\n",
              "         [-0.0116],\n",
              "         [ 0.0107],\n",
              "         [-0.0381],\n",
              "         [ 0.0147],\n",
              "         [ 0.0425],\n",
              "         [-0.0768],\n",
              "         [-0.0165],\n",
              "         [-0.0065],\n",
              "         [ 0.0210],\n",
              "         [-0.0575],\n",
              "         [ 0.0018],\n",
              "         [-0.0645],\n",
              "         [-0.0364],\n",
              "         [ 0.0240],\n",
              "         [-0.0080],\n",
              "         [-0.0446],\n",
              "         [-0.0449],\n",
              "         [-0.0740]], grad_fn=<UnsqueezeBackward0>))"
            ]
          },
          "metadata": {},
          "execution_count": 18
        }
      ],
      "source": [
        "hedger = NeuralHedger()\n",
        "loader = DataLoader(spot_dataset, batch_size=32, shuffle=True, drop_last=True)\n",
        "\n",
        "for feature, target in loader:\n",
        "    print(feature.shape)\n",
        "    pnl = hedger.get_pnl(feature.to(torch.float32))\n",
        "    break\n",
        "pnl"
      ]
    },
    {
      "cell_type": "code",
      "execution_count": 19,
      "metadata": {
        "id": "VfXJSR-XOnaw"
      },
      "outputs": [],
      "source": [
        "from tqdm import tqdm\n",
        "from torch.utils.data import DataLoader\n",
        "\n",
        "\n",
        "def train_epoch(model: nn.Module, optimizer: torch.optim.Optimizer, criterion: nn.Module,\n",
        "                loader: DataLoader, tqdm_desc: str = \"Model\"):\n",
        "    device = next(model.parameters()).device\n",
        "\n",
        "    if tqdm_desc is None:\n",
        "        iterator = loader\n",
        "    else:\n",
        "        iterator = tqdm(loader, desc=tqdm_desc)\n",
        "\n",
        "    train_loss = 0.0\n",
        "    model_diff = 0.0\n",
        "    model.train()\n",
        "    scaler = GradScaler()\n",
        "    pnl_path = []\n",
        "    weight_path = []\n",
        "    diffs_path = []\n",
        "    for features, target_pnl in iterator:\n",
        "        optimizer.zero_grad()\n",
        "\n",
        "        features = features.to(device)\n",
        "        target_pnl = target_pnl.to(device)\n",
        "\n",
        "        with torch.autocast(device_type='cuda', dtype=torch.float16):\n",
        "            weights, model_pnl = model.get_pnl(features)\n",
        "            loss = criterion(target_pnl, model_pnl)\n",
        "\n",
        "        scaler.scale(loss).backward()\n",
        "        scaler.step(optimizer)\n",
        "\n",
        "        scaler.update()\n",
        "\n",
        "        diff = target_pnl - model_pnl\n",
        "\n",
        "        train_loss += loss.item()\n",
        "        model_diff += diff.mean().item()\n",
        "\n",
        "        diffs_path.append(diff.detach().cpu().numpy())\n",
        "        weight_path.append(weights.detach().cpu().numpy())\n",
        "\n",
        "    train_loss /= len(loader.dataset)\n",
        "    model_diff /= len(loader.dataset)\n",
        "\n",
        "    return train_loss, weight_path, model_diff, diffs_path\n",
        "\n",
        "\n",
        "@torch.no_grad()\n",
        "def validation_epoch(model: nn.Module, criterion: nn.Module,\n",
        "                     loader: DataLoader, tqdm_desc: [str, None] = None):\n",
        "    device = next(model.parameters()).device\n",
        "\n",
        "    if tqdm_desc is None:\n",
        "        iterator = loader\n",
        "    else:\n",
        "        iterator = tqdm(loader, desc=tqdm_desc)\n",
        "\n",
        "    val_loss = 0.0\n",
        "    model_diff = 0.0\n",
        "    model.eval()\n",
        "    diffs_path = []\n",
        "    weight_path = []\n",
        "    for features, target_pnl in iterator:\n",
        "        features = features.to(device)\n",
        "        target_pnl = target_pnl.to(device)\n",
        "\n",
        "        weights, model_pnl = model.get_pnl(features)\n",
        "\n",
        "        loss = criterion(target_pnl, model_pnl)\n",
        "        diff = target_pnl - model_pnl\n",
        "\n",
        "        val_loss += loss.item()\n",
        "        model_diff += diff.mean().item()\n",
        "\n",
        "        diffs_path.append(diff.detach().cpu().numpy())\n",
        "        weight_path.append(weights.detach().cpu().numpy())\n",
        "\n",
        "    val_loss /= len(loader.dataset)\n",
        "    model_diff /= len(loader.dataset)\n",
        "\n",
        "    return val_loss, weight_path, model_diff, diffs_path"
      ]
    },
    {
      "cell_type": "code",
      "execution_count": 20,
      "metadata": {
        "id": "Wij0ERxmMoCl"
      },
      "outputs": [],
      "source": [
        "from IPython.display import clear_output\n",
        "\n",
        "def plot_losses(train_losses: list[float], val_losses: list[float], train_pnls: list[float], val_pnls: list[float]):\n",
        "    clear_output()\n",
        "    fig, axs = plt.subplots(1, 2, figsize=(13, 4))\n",
        "    axs[0].plot(range(1, len(train_losses) + 1), train_losses, label='train')\n",
        "    axs[0].plot(range(1, len(val_losses) + 1), val_losses, label='val')\n",
        "    axs[0].set_ylabel('loss')\n",
        "\n",
        "    axs[1].plot(range(1, len(train_pnls) + 1), train_pnls, label='train')\n",
        "    axs[1].plot(range(1, len(val_pnls) + 1), val_pnls, label='val')\n",
        "    axs[1].set_ylabel('PnL, RUB')\n",
        "\n",
        "    for ax in axs:\n",
        "        ax.set_xlabel('epoch')\n",
        "        ax.legend()\n",
        "\n",
        "    plt.show()"
      ]
    },
    {
      "cell_type": "code",
      "execution_count": 21,
      "metadata": {
        "id": "7kOgOK7kOnaw"
      },
      "outputs": [],
      "source": [
        "from typing import Tuple, List, Optional, Any\n",
        "\n",
        "\n",
        "def train(model: nn.Module, optimizer: torch.optim.Optimizer, scheduler: Optional[Any],\n",
        "          train_loader: DataLoader, val_loader: DataLoader,\n",
        "          num_epochs: int, print_logs: bool = True) -> Tuple[List[float], List[float]]:\n",
        "    train_losses, val_losses = [], []\n",
        "    train_diffs, val_diffs = [], []\n",
        "    criterion = nn.MSELoss().to(DEVICE)\n",
        "\n",
        "    for epoch in range(1, num_epochs + 1):\n",
        "        if print_logs:\n",
        "            desc_train = f\"Training {epoch}/{num_epochs}\"\n",
        "            desc_val = f\"Validation {epoch}/{num_epochs}\"\n",
        "        else:\n",
        "            desc_train, desc_val = None, None\n",
        "\n",
        "        train_loss, weights, train_diff, train_path = train_epoch(\n",
        "            model, optimizer, criterion, train_loader,\n",
        "            tqdm_desc=desc_train\n",
        "        )\n",
        "        val_loss, weights, val_diff, val_path = validation_epoch(\n",
        "            model, criterion, val_loader,\n",
        "            tqdm_desc=desc_val\n",
        "        )\n",
        "\n",
        "        if scheduler is not None:\n",
        "            scheduler.step()\n",
        "\n",
        "        train_losses += [train_loss]\n",
        "        val_losses += [val_loss]\n",
        "\n",
        "        train_diffs += [train_diff]\n",
        "        val_diffs += [val_diff]\n",
        "\n",
        "        plot_losses(train_losses, val_losses, train_diffs, val_diffs)\n",
        "\n",
        "    return train_losses, val_losses, weights, train_diffs, val_diffs"
      ]
    },
    {
      "cell_type": "code",
      "execution_count": 22,
      "metadata": {
        "colab": {
          "base_uri": "https://localhost:8080/"
        },
        "id": "TdKQ5Ap2JoJa",
        "outputId": "7d609839-51c5-4a70-a09a-f90a3ee4a107"
      },
      "outputs": [
        {
          "output_type": "execute_result",
          "data": {
            "text/plain": [
              "((37351, 4), (4149, 4))"
            ]
          },
          "metadata": {},
          "execution_count": 22
        }
      ],
      "source": [
        "TEST_SIZE = .1\n",
        "train_data = data.resample(\"30 min\").ffill()\n",
        "time_split = train_data.index[int(train_data.index.shape[0] * (1 - TEST_SIZE))]\n",
        "train_df, test_df = train_data[train_data.index <= time_split], train_data[train_data.index > time_split]\n",
        "train_df.shape, test_df.shape"
      ]
    },
    {
      "cell_type": "code",
      "execution_count": 87,
      "metadata": {
        "colab": {
          "base_uri": "https://localhost:8080/",
          "height": 388
        },
        "id": "nRscxjBSOnax",
        "outputId": "5c98a0dd-99f5-4f34-f09c-4cbe27640d12"
      },
      "outputs": [
        {
          "output_type": "display_data",
          "data": {
            "text/plain": [
              "<Figure size 1300x400 with 2 Axes>"
            ],
            "image/png": "[encoded data removed]"
          },
          "metadata": {}
        }
      ],
      "source": [
        "N_EPOCHS = 3\n",
        "\n",
        "hedger = NeuralHedger().to(DEVICE)\n",
        "\n",
        "# train_set = SpotDataset(data=train_df, instrument_cls=EuropeanCall)\n",
        "# val_set = SpotDataset(data=test_df, instrument_cls=EuropeanCall)\n",
        "\n",
        "train_set = SpotDataset(data=train_df, instrument_cls=Forward)\n",
        "val_set = SpotDataset(data=test_df, instrument_cls=Forward)\n",
        "\n",
        "train_loader = DataLoader(train_set, batch_size=32, shuffle=True, drop_last=False)\n",
        "val_loader = DataLoader(val_set, batch_size=32, shuffle=True, drop_last=False)\n",
        "\n",
        "# optimizer = torch.optim.SGD(hedger.parameters(), lr=0.001, momentum=0.9)\n",
        "optimizer = torch.optim.Adam(hedger.parameters())\n",
        "scheduler = torch.optim.lr_scheduler.CosineAnnealingLR(optimizer, T_max=N_EPOCHS)\n",
        "\n",
        "train_losses, val_losses, weights, train_diffs, val_diffs = train(\n",
        "    model=hedger,\n",
        "    optimizer=optimizer,\n",
        "    scheduler=scheduler,\n",
        "    train_loader=train_loader,\n",
        "    val_loader=val_loader,\n",
        "    num_epochs=N_EPOCHS,\n",
        "    print_logs=True\n",
        ")"
      ]
    },
    {
      "cell_type": "code",
      "execution_count": 38,
      "metadata": {
        "id": "3q0ps9fQfkDx"
      },
      "outputs": [],
      "source": [
        "# torch.save(hedger, PATH / \"fwd_out_new.pt\")"
      ]
    },
    {
      "cell_type": "code",
      "source": [
        "import matplotlib.pyplot as plt\n",
        "\n",
        "def assess_model(model: nn.Module, baseline: nn.Module) -> None:\n",
        "    _, weights, _, model_diff = validation_epoch(model, nn.MSELoss(), val_loader)\n",
        "    _, _, _, baseline_diff = validation_epoch(baseline, nn.MSELoss(), val_loader)\n",
        "\n",
        "    model_diff = np.concatenate(model_diff, axis=0)\n",
        "    baseline_diff = np.concatenate(baseline_diff, axis=0)\n",
        "\n",
        "    # print(weights[-1])\n",
        "    # print(model_diff)\n",
        "\n",
        "    print(f\"Average weight = {weights[-1].mean()}, Weights = [{weights[-1].min()}; {weights[-1].max()}]\")\n",
        "\n",
        "    print(f\"Means: model = {model_diff.mean():.6f}, baseline = {baseline_diff.mean():.6f}\")\n",
        "\n",
        "    print(f\"Stds: model = {model_diff.std():.6f}, baseline = {baseline_diff.std():.6f}\")\n",
        "\n",
        "    print(f\"VaRs 5%: model = {np.abs(np.quantile(model_diff, 0.05)):.6f}, baseline = {np.abs(np.quantile(baseline_diff, 0.05)):.6f}\")\n",
        "\n",
        "    t_value = (model_diff.mean() - baseline_diff.mean()) / np.sqrt(model_diff.std() ** 2 / model_diff.shape[0] + baseline_diff.std() ** 2 / baseline_diff.shape[0])\n",
        "    print(f\"T-stat = {t_value:.6f}\")\n",
        "\n",
        "    bins = np.linspace(-.25, .25, 100)\n",
        "\n",
        "    plt.hist(model_diff, bins, alpha=0.5, label='model')\n",
        "    plt.hist(baseline_diff, bins, alpha=0.5, label='baseline')\n",
        "    plt.legend(loc='upper right')\n",
        "    plt.show()"
      ],
      "metadata": {
        "id": "S0i34ec91c9v"
      },
      "execution_count": 52,
      "outputs": []
    },
    {
      "cell_type": "code",
      "execution_count": 89,
      "metadata": {
        "id": "nd9N5PtFsiBe"
      },
      "outputs": [],
      "source": [
        "class BaselineForward(nn.Module):\n",
        "    def __init__(self, dt: float = AVERAGE_DT):\n",
        "        super().__init__()\n",
        "\n",
        "        self.lstm = nn.LSTM(1, 1, num_layers=1, batch_first=True)\n",
        "        self.dt = dt\n",
        "\n",
        "    def forward(self, spot: torch.Tensor, return_hidden: bool = False) -> torch.Tensor:\n",
        "        return torch.Tensor([[1] * (spot.shape[1] - 2)] * spot.shape[0]).to(torch.float32).to(DEVICE)\n",
        "\n",
        "    def get_pnl(self, spot: torch.Tensor) -> torch.float32:\n",
        "        # hedging_weights = nn.Softmax()(self.forward(spot, return_hidden=False), dim=XXX)\n",
        "        hedging_weights = self.forward(spot, return_hidden=False)\n",
        "        return hedging_weights, get_pnl(spot=spot, weights=hedging_weights, dt=self.dt)"
      ]
    },
    {
      "cell_type": "code",
      "source": [
        "assess_model(hedger, BaselineForward().to(DEVICE))"
      ],
      "metadata": {
        "colab": {
          "base_uri": "https://localhost:8080/",
          "height": 515
        },
        "id": "IULEBkEGSgVi",
        "outputId": "e08f91b9-a43e-4f4b-c4d9-ae77f5d41e5d"
      },
      "execution_count": 90,
      "outputs": [
        {
          "output_type": "stream",
          "name": "stdout",
          "text": [
            "Average weight = 0.7131653428077698, Weights = [0.6914758682250977; 0.8863197565078735]\n",
            "Means: model = -0.017900, baseline = -0.005717\n",
            "Stds: model = 0.171547, baseline = 0.040061\n",
            "VaRs 5%: model = 0.305071, baseline = 0.070880\n",
            "T-stat = -4.323077\n"
          ]
        },
        {
          "output_type": "display_data",
          "data": {
            "text/plain": [
              "<Figure size 640x480 with 1 Axes>"
            ],
            "image/png": "[encoded data removed]"
          },
          "metadata": {}
        }
      ]
    },
    {
      "cell_type": "code",
      "source": [
        "assess_model(hedger, BaselineForward().to(DEVICE))"
      ],
      "metadata": {
        "id": "zhzB_lLn3Cnu",
        "colab": {
          "base_uri": "https://localhost:8080/",
          "height": 515
        },
        "outputId": "875c21b6-3797-4435-affa-1ad7d33715c1"
      },
      "execution_count": 71,
      "outputs": [
        {
          "output_type": "stream",
          "name": "stdout",
          "text": [
            "Average weight = 1.0035942792892456, Weights = [0.9075855612754822; 1.1630356311798096]\n",
            "Means: model = -0.013432, baseline = -0.017169\n",
            "Stds: model = 0.053980, baseline = 0.038942\n",
            "VaRs 5%: model = 0.101120, baseline = 0.076409\n",
            "T-stat = 3.509309\n"
          ]
        },
        {
          "output_type": "display_data",
          "data": {
            "text/plain": [
              "<Figure size 640x480 with 1 Axes>"
            ],
            "image/png": "[encoded data removed]"
          },
          "metadata": {}
        }
      ]
    },
    {
      "cell_type": "markdown",
      "metadata": {
        "id": "h05ZeQ4D7O_2"
      },
      "source": [
        "## Option."
      ]
    },
    {
      "cell_type": "code",
      "execution_count": 24,
      "metadata": {
        "id": "jtrsaV7s7Sl0"
      },
      "outputs": [],
      "source": [
        "import numpy as np\n",
        "\n",
        "\n",
        "class EuropeanCall(Instrument):\n",
        "    def __init__(\n",
        "            self,\n",
        "            rates_difference: float,\n",
        "            spot_price: float,\n",
        "            term: float\n",
        "    ):\n",
        "        super().__init__()\n",
        "        self.rates_difference = rates_difference\n",
        "        self.spot_price = spot_price\n",
        "        self.term = term\n",
        "\n",
        "    def coupon(self, frequency: float = 0., *args, **kwargs) -> float:\n",
        "        return 0\n",
        "\n",
        "    def pv_coupons(self) -> float:\n",
        "        return 0\n",
        "\n",
        "    def get_strike(self, spot_price: [float, None] = None) -> float:\n",
        "        return self.spot_price\n",
        "\n",
        "    @property\n",
        "    def strike(self) -> float:\n",
        "        return self.get_strike()\n",
        "\n",
        "    def price(self, spot_start: [float, list[float], None] = None) -> float:\n",
        "        return 0\n",
        "\n",
        "    def payoff(self, spot: [float, np.array]) -> float:\n",
        "        return max(spot - self.strike, 0)\n",
        "\n",
        "    def __repr__(self):\n",
        "        return f\"EuropeanCall(strike={self.strike}, term={self.term}, spot_ref={self.spot_price})\""
      ]
    },
    {
      "cell_type": "code",
      "source": [
        "class BaselineEuropeanCall(nn.Module):\n",
        "    def __init__(self, dt: float = AVERAGE_DT):\n",
        "        super().__init__()\n",
        "\n",
        "        self.lstm = nn.LSTM(1, 1, num_layers=1, batch_first=True)\n",
        "        self.dt = dt\n",
        "\n",
        "        self.strike = 1\n",
        "\n",
        "    def _call_delta(self, mid: torch.Tensor, rates: torch.Tensor, terms: torch.Tensor) -> torch.float32:\n",
        "        \"\"\"\n",
        "        Call option delta [dV/dS] via analytical form solution of Black-Scholes-Merton.\n",
        "\n",
        "        Returns\n",
        "        -------\n",
        "        delta : float\n",
        "            Option delta.\n",
        "        \"\"\"\n",
        "        strikes = mid[:, 0] * self.strike\n",
        "        # print(strikes[: -1])\n",
        "        sigma = mid.std(dim=1).unsqueeze(1)\n",
        "        # print(\"***\")\n",
        "        d1 = (torch.log(mid / strikes.unsqueeze(1)) + (rates + sigma ** 2 / 2) * terms) / (sigma * torch.sqrt(terms))\n",
        "        d1 = d1[:, 1:-1]\n",
        "        # print(d1.shape)\n",
        "        # print(\"***\")\n",
        "\n",
        "        cdf_d1 = torch.distributions.normal.Normal(0, 1).cdf(d1)\n",
        "\n",
        "        return cdf_d1\n",
        "\n",
        "    def forward(self, spot: torch.Tensor, return_hidden: bool = False) -> torch.Tensor:\n",
        "        mid = (spot[:, :, 0] + spot[:, :, 1]) / 2\n",
        "        rates = spot[:, :, 2] - spot[:, :, 3]\n",
        "        terms = spot[:, :, 4]\n",
        "        return self._call_delta(mid=mid, rates=rates, terms=terms)\n",
        "\n",
        "    def get_pnl(self, spot: torch.Tensor) -> torch.float32:\n",
        "        # hedging_weights = nn.Softmax()(self.forward(spot, return_hidden=False), dim=XXX)\n",
        "        hedging_weights = self.forward(spot, return_hidden=False)\n",
        "        return hedging_weights, get_pnl(spot=spot, weights=hedging_weights, dt=self.dt)"
      ],
      "metadata": {
        "id": "JazkoYw9N04B"
      },
      "execution_count": 49,
      "outputs": []
    },
    {
      "cell_type": "code",
      "source": [
        "baseline = BaselineEuropeanCall().to(DEVICE)\n",
        "loader = DataLoader(spot_dataset, batch_size=32, shuffle=True, drop_last=True)\n",
        "for feature, target in loader:\n",
        "    print(feature.shape)\n",
        "    w = baseline(feature)\n",
        "    pnl = baseline.get_pnl(feature.to(torch.float32))\n",
        "    break\n",
        "w"
      ],
      "metadata": {
        "colab": {
          "base_uri": "https://localhost:8080/"
        },
        "id": "utlXWctRPBgY",
        "outputId": "2ee77dc9-b1e9-469a-feae-c5bc337a57d8"
      },
      "execution_count": 26,
      "outputs": [
        {
          "output_type": "stream",
          "name": "stdout",
          "text": [
            "torch.Size([32, 7201, 5])\n"
          ]
        },
        {
          "output_type": "execute_result",
          "data": {
            "text/plain": [
              "tensor([[0.5092, 0.5130, 0.5160,  ..., 0.9851, 0.9850, 0.9850],\n",
              "        [0.5411, 0.5580, 0.5709,  ..., 1.0000, 1.0000, 1.0000],\n",
              "        [0.5206, 0.5291, 0.5356,  ..., 1.0000, 1.0000, 1.0000],\n",
              "        ...,\n",
              "        [0.5121, 0.5171, 0.5209,  ..., 0.9859, 0.9859, 0.9859],\n",
              "        [0.6721, 0.5570, 0.5497,  ..., 0.9985, 0.9985, 0.9985],\n",
              "        [0.5261, 0.5368, 0.5451,  ..., 1.0000, 1.0000, 1.0000]])"
            ]
          },
          "metadata": {},
          "execution_count": 26
        }
      ]
    },
    {
      "cell_type": "code",
      "source": [
        "w.shape"
      ],
      "metadata": {
        "colab": {
          "base_uri": "https://localhost:8080/"
        },
        "id": "dNirg90qV_P-",
        "outputId": "a79beb62-fcbd-484d-945f-034f90ed0c6b"
      },
      "execution_count": 27,
      "outputs": [
        {
          "output_type": "execute_result",
          "data": {
            "text/plain": [
              "torch.Size([32, 7199])"
            ]
          },
          "metadata": {},
          "execution_count": 27
        }
      ]
    },
    {
      "cell_type": "code",
      "source": [
        "w[:, -1]"
      ],
      "metadata": {
        "colab": {
          "base_uri": "https://localhost:8080/"
        },
        "id": "PqqTyLdIV_9s",
        "outputId": "cec1385b-064a-4bbf-b71c-679315d4cd81"
      },
      "execution_count": 28,
      "outputs": [
        {
          "output_type": "execute_result",
          "data": {
            "text/plain": [
              "tensor([0.9850, 1.0000, 1.0000, 1.0000, 0.9685, 1.0000, 0.9996, 1.0000, 0.9081,\n",
              "        1.0000, 0.9995, 0.9999, 0.9999, 0.9661, 0.9667, 0.9999, 1.0000, 1.0000,\n",
              "        0.9999, 0.9994, 0.9821, 1.0000, 0.9883, 1.0000, 1.0000, 0.9674, 0.9961,\n",
              "        1.0000, 0.9391, 0.9859, 0.9985, 1.0000])"
            ]
          },
          "metadata": {},
          "execution_count": 28
        }
      ]
    },
    {
      "cell_type": "code",
      "source": [
        "feature[:, -1, :2]"
      ],
      "metadata": {
        "colab": {
          "base_uri": "https://localhost:8080/"
        },
        "id": "6-ONEScGWHG4",
        "outputId": "ecd17729-6896-44bb-bc53-9fa3fb8efbf5"
      },
      "execution_count": 29,
      "outputs": [
        {
          "output_type": "execute_result",
          "data": {
            "text/plain": [
              "tensor([[67.9250, 67.9396],\n",
              "        [58.4869, 58.5067],\n",
              "        [62.6825, 62.6995],\n",
              "        [58.4603, 58.4833],\n",
              "        [59.0496, 59.0876],\n",
              "        [62.9760, 62.9933],\n",
              "        [62.2462, 62.3027],\n",
              "        [57.0066, 57.0344],\n",
              "        [57.2200, 57.2455],\n",
              "        [57.0338, 57.0490],\n",
              "        [63.5400, 63.5498],\n",
              "        [57.4691, 57.5008],\n",
              "        [56.7585, 56.7751],\n",
              "        [58.3654, 58.4048],\n",
              "        [58.9338, 58.9764],\n",
              "        [66.2731, 66.2908],\n",
              "        [57.4186, 57.4386],\n",
              "        [57.0790, 57.0908],\n",
              "        [59.3920, 59.4000],\n",
              "        [65.9770, 66.0022],\n",
              "        [57.9301, 57.9523],\n",
              "        [56.6506, 56.6724],\n",
              "        [57.7629, 57.8083],\n",
              "        [56.9164, 56.9411],\n",
              "        [66.7355, 66.7355],\n",
              "        [66.7711, 66.7883],\n",
              "        [57.2396, 57.2545],\n",
              "        [65.2078, 65.2426],\n",
              "        [67.5095, 67.5439],\n",
              "        [65.3006, 65.3455],\n",
              "        [66.0810, 66.1776],\n",
              "        [56.1799, 56.2056]])"
            ]
          },
          "metadata": {},
          "execution_count": 29
        }
      ]
    },
    {
      "cell_type": "code",
      "source": [
        "feature[0]"
      ],
      "metadata": {
        "colab": {
          "base_uri": "https://localhost:8080/"
        },
        "id": "p55DY0VCVmjn",
        "outputId": "b65a78bc-587d-4cd7-c854-3cd5c9d0a2fa"
      },
      "execution_count": 30,
      "outputs": [
        {
          "output_type": "execute_result",
          "data": {
            "text/plain": [
              "tensor([[6.7053e+01, 6.7100e+01, 6.7663e+00, 1.9868e-02, 0.0000e+00],\n",
              "        [6.7053e+01, 6.7100e+01, 6.7663e+00, 1.9868e-02, 1.9026e-06],\n",
              "        [6.7053e+01, 6.7100e+01, 6.7663e+00, 1.9868e-02, 3.8052e-06],\n",
              "        ...,\n",
              "        [6.7923e+01, 6.7933e+01, 6.5772e+00, 1.8842e-02, 1.3695e-02],\n",
              "        [6.7923e+01, 6.7931e+01, 6.5772e+00, 1.8842e-02, 1.3697e-02],\n",
              "        [6.7925e+01, 6.7940e+01, 6.5772e+00, 1.8842e-02, 1.3699e-02]])"
            ]
          },
          "metadata": {},
          "execution_count": 30
        }
      ]
    },
    {
      "cell_type": "code",
      "source": [
        "class NeuralHedger(nn.Module):\n",
        "    def __init__(self, input_size: int = 5, num_layers: int = 3, hidden_size: int = 32, dt: float = AVERAGE_DT):\n",
        "        super().__init__()\n",
        "        self.input_size = input_size\n",
        "        self.num_layers = num_layers\n",
        "        self.hidden_size = hidden_size\n",
        "        self.dt = dt\n",
        "\n",
        "        self.batch_norm = nn.BatchNorm1d(241)\n",
        "\n",
        "        self.lstm = nn.LSTM(input_size, self.hidden_size, num_layers=num_layers, batch_first=True)\n",
        "\n",
        "        self.hedging_weights = nn.Sequential(\n",
        "            nn.Linear(self.hidden_size, self.hidden_size),\n",
        "            nn.ReLU(),\n",
        "            nn.Linear(self.hidden_size, self.hidden_size),\n",
        "            nn.ReLU(),\n",
        "            nn.Linear(self.hidden_size, 1)\n",
        "        )\n",
        "\n",
        "    def forward(self, spot: torch.Tensor, hidden: [(torch.Tensor), None] = None, return_hidden: bool = False) -> [\n",
        "        torch.Tensor,\n",
        "        (torch.Tensor, torch.Tensor, torch.Tensor)]:\n",
        "        model_device = spot.device\n",
        "        if hidden is None:\n",
        "            h_t = torch.zeros(self.num_layers, spot.size(0), self.hidden_size, dtype=torch.float32).to(model_device)\n",
        "            c_t = torch.zeros(self.num_layers, spot.size(0), self.hidden_size, dtype=torch.float32).to(model_device)\n",
        "        elif len(hidden) != 2:\n",
        "            raise ValueError(f\"Expected two hidden state variables, got {len(hidden)}\")\n",
        "        else:\n",
        "            h_t, c_t = hidden\n",
        "\n",
        "        price = self.batch_norm(spot[:, :, :2])\n",
        "        rates = self.batch_norm(spot[:, :, 2:4])\n",
        "        spot = torch.cat([price, rates, spot[:, :, 4:]], dim=2)\n",
        "\n",
        "        h_t, c_t = self.lstm(spot, (h_t, c_t))\n",
        "        outputs = self.hedging_weights(h_t)[:, 1:-1, :].squeeze(2)\n",
        "\n",
        "        if return_hidden:\n",
        "            return outputs, (h_t, c_t)\n",
        "        else:\n",
        "            return outputs\n",
        "\n",
        "    def get_pnl(self, spot: torch.Tensor) -> [torch.Tensor, torch.float32]:\n",
        "        # hedging_weights = nn.Softmax()(self.forward(spot, return_hidden=False), dim=XXX)\n",
        "        weights = self.forward(spot, return_hidden=False)\n",
        "\n",
        "        model_device = spot.device\n",
        "        weights_all = torch.concat([torch.zeros(spot.shape[0], 1, requires_grad=False).to(model_device), weights,\n",
        "                                    torch.zeros(spot.shape[0], 1, requires_grad=False).to(model_device)], dim=1)\n",
        "        weights_diff = weights_all.diff(n=1, dim=1)\n",
        "\n",
        "        rates_diff = spot[:, :, 2] - spot[:, :, 3]\n",
        "\n",
        "        bought = torch.where(weights_diff > 0, weights_diff, 0)\n",
        "        sold = torch.where(weights_diff < 0, weights_diff, 0)\n",
        "\n",
        "        interest = (rates_diff * -weights_all).sum(dim=1) * self.dt\n",
        "\n",
        "        cash_outflow = (-spot[:, 1:, 1] * bought).sum(dim=1)\n",
        "        cash_inflow = (-spot[:, 1:, 0] * sold).sum(dim=1)\n",
        "\n",
        "        pnl = (cash_outflow + cash_inflow + interest).unsqueeze(1)\n",
        "\n",
        "        return weights, pnl"
      ],
      "metadata": {
        "id": "RlPV1uOiLR2q"
      },
      "execution_count": 42,
      "outputs": []
    },
    {
      "cell_type": "code",
      "source": [
        "call_hedger = NeuralHedger().to(DEVICE)\n",
        "loader = DataLoader(SpotDataset(data=train_df, instrument_cls=EuropeanCall), batch_size=32, shuffle=True, drop_last=False)\n",
        "for feature, target in loader:\n",
        "    print(feature.shape)\n",
        "    w = call_hedger(feature.to(DEVICE))\n",
        "    pnl = call_hedger.get_pnl(feature.to(torch.float32).to(DEVICE))\n",
        "    break\n",
        "w"
      ],
      "metadata": {
        "colab": {
          "base_uri": "https://localhost:8080/"
        },
        "id": "X7U4AhpWt9wE",
        "outputId": "4b4d47b1-966b-4b0c-b2ae-43bb0558d4ca"
      },
      "execution_count": 41,
      "outputs": [
        {
          "output_type": "stream",
          "name": "stdout",
          "text": [
            "torch.Size([32, 241, 5])\n",
            "torch.Size([32, 241, 2]) torch.Size([32, 241, 2]) torch.Size([32, 241, 1])\n",
            "torch.Size([32, 241, 2]) torch.Size([32, 241, 2]) torch.Size([32, 241, 1])\n"
          ]
        },
        {
          "output_type": "execute_result",
          "data": {
            "text/plain": [
              "tensor([[-0.0492, -0.0490, -0.0488,  ..., -0.0482, -0.0482, -0.0482],\n",
              "        [-0.0491, -0.0488, -0.0483,  ..., -0.0473, -0.0473, -0.0473],\n",
              "        [-0.0491, -0.0488, -0.0484,  ..., -0.0474, -0.0474, -0.0474],\n",
              "        ...,\n",
              "        [-0.0494, -0.0494, -0.0494,  ..., -0.0497, -0.0497, -0.0497],\n",
              "        [-0.0494, -0.0494, -0.0494,  ..., -0.0497, -0.0497, -0.0497],\n",
              "        [-0.0493, -0.0493, -0.0492,  ..., -0.0494, -0.0494, -0.0494]],\n",
              "       device='cuda:0', grad_fn=<SqueezeBackward1>)"
            ]
          },
          "metadata": {},
          "execution_count": 41
        }
      ]
    },
    {
      "cell_type": "code",
      "source": [
        "hedger = NeuralHedger()\n",
        "loader = DataLoader(SpotDataset(data=train_df, instrument_cls=EuropeanCall), batch_size=32, shuffle=True, drop_last=False)\n",
        "\n",
        "for feature, target in loader:\n",
        "    print(feature.shape)\n",
        "    pnl = hedger.get_pnl(feature.to(torch.float32))\n",
        "    break\n",
        "pnl"
      ],
      "metadata": {
        "colab": {
          "base_uri": "https://localhost:8080/"
        },
        "id": "wXbAlMSsPr9_",
        "outputId": "857cf604-cf56-475e-df31-c927091f52a4"
      },
      "execution_count": 54,
      "outputs": [
        {
          "output_type": "stream",
          "name": "stdout",
          "text": [
            "torch.Size([32, 241, 5])\n",
            "tensor([[[ 1.0611,  1.0621, -0.8130, -0.8145, -0.8150],\n",
            "         [ 1.0613,  1.0623, -0.8130, -0.8145, -0.8150],\n",
            "         [ 1.0612,  1.0622, -0.8130, -0.8145, -0.8150],\n",
            "         ...,\n",
            "         [ 1.0607,  1.0616, -0.8129, -0.8143, -0.8145],\n",
            "         [ 1.0607,  1.0615, -0.8129, -0.8143, -0.8145],\n",
            "         [ 1.0613,  1.0621, -0.8129, -0.8143, -0.8145]],\n",
            "\n",
            "        [[ 1.3900,  1.3906, -0.8127, -0.8142, -0.8150],\n",
            "         [ 1.3902,  1.3908, -0.8127, -0.8142, -0.8150],\n",
            "         [ 1.3901,  1.3907, -0.8127, -0.8142, -0.8150],\n",
            "         ...,\n",
            "         [ 1.3764,  1.3767, -0.8125, -0.8140, -0.8145],\n",
            "         [ 1.3747,  1.3752, -0.8125, -0.8140, -0.8145],\n",
            "         [ 1.3730,  1.3734, -0.8126, -0.8141, -0.8145]],\n",
            "\n",
            "        [[ 1.0964,  1.0968, -0.8126, -0.8146, -0.8150],\n",
            "         [ 1.0968,  1.0972, -0.8126, -0.8146, -0.8150],\n",
            "         [ 1.0972,  1.0977, -0.8126, -0.8146, -0.8150],\n",
            "         ...,\n",
            "         [ 1.0931,  1.0935, -0.8125, -0.8145, -0.8145],\n",
            "         [ 1.0937,  1.0941, -0.8125, -0.8145, -0.8145],\n",
            "         [ 1.0952,  1.0955, -0.8125, -0.8145, -0.8145]],\n",
            "\n",
            "        ...,\n",
            "\n",
            "        [[ 1.3984,  1.3995, -0.8128, -0.8144, -0.8150],\n",
            "         [ 1.3973,  1.3978, -0.8128, -0.8144, -0.8150],\n",
            "         [ 1.3968,  1.3971, -0.8128, -0.8144, -0.8150],\n",
            "         ...,\n",
            "         [ 1.3787,  1.3819, -0.8127, -0.8143, -0.8145],\n",
            "         [ 1.3786,  1.3819, -0.8127, -0.8143, -0.8145],\n",
            "         [ 1.3794,  1.3826, -0.8127, -0.8143, -0.8145]],\n",
            "\n",
            "        [[ 1.3670,  1.3679, -0.8126, -0.8142, -0.8150],\n",
            "         [ 1.3671,  1.3680, -0.8126, -0.8142, -0.8150],\n",
            "         [ 1.3670,  1.3679, -0.8126, -0.8142, -0.8150],\n",
            "         ...,\n",
            "         [ 1.3686,  1.3699, -0.8125, -0.8141, -0.8145],\n",
            "         [ 1.3685,  1.3698, -0.8125, -0.8140, -0.8145],\n",
            "         [ 1.3692,  1.3706, -0.8125, -0.8141, -0.8145]],\n",
            "\n",
            "        [[ 1.1502,  1.1507, -0.8125, -0.8146, -0.8150],\n",
            "         [ 1.1495,  1.1500, -0.8125, -0.8146, -0.8150],\n",
            "         [ 1.1489,  1.1492, -0.8125, -0.8146, -0.8150],\n",
            "         ...,\n",
            "         [ 1.1287,  1.1293, -0.8124, -0.8145, -0.8145],\n",
            "         [ 1.1280,  1.1286, -0.8124, -0.8145, -0.8145],\n",
            "         [ 1.1271,  1.1276, -0.8124, -0.8145, -0.8145]]],\n",
            "       grad_fn=<NativeBatchNormBackward0>)\n"
          ]
        },
        {
          "output_type": "execute_result",
          "data": {
            "text/plain": [
              "(tensor([[0.1071, 0.1085, 0.1092,  ..., 0.1096, 0.1096, 0.1096],\n",
              "         [0.1072, 0.1087, 0.1093,  ..., 0.1098, 0.1098, 0.1098],\n",
              "         [0.1071, 0.1086, 0.1092,  ..., 0.1096, 0.1096, 0.1096],\n",
              "         ...,\n",
              "         [0.1072, 0.1087, 0.1093,  ..., 0.1098, 0.1098, 0.1098],\n",
              "         [0.1072, 0.1086, 0.1093,  ..., 0.1098, 0.1098, 0.1098],\n",
              "         [0.1071, 0.1086, 0.1092,  ..., 0.1096, 0.1096, 0.1096]],\n",
              "        grad_fn=<SqueezeBackward1>),\n",
              " tensor([[ 0.0098],\n",
              "         [-0.0432],\n",
              "         [ 0.0065],\n",
              "         [-0.0287],\n",
              "         [ 0.0025],\n",
              "         [-0.0227],\n",
              "         [-0.0036],\n",
              "         [ 0.0183],\n",
              "         [ 0.1150],\n",
              "         [-0.0059],\n",
              "         [-0.0884],\n",
              "         [ 0.0020],\n",
              "         [-0.0583],\n",
              "         [ 0.1124],\n",
              "         [ 0.0013],\n",
              "         [-0.0535],\n",
              "         [ 0.0546],\n",
              "         [ 0.1021],\n",
              "         [ 0.0245],\n",
              "         [ 0.0367],\n",
              "         [ 0.2308],\n",
              "         [-0.0415],\n",
              "         [ 0.0471],\n",
              "         [-0.0970],\n",
              "         [-0.0255],\n",
              "         [ 0.0410],\n",
              "         [ 0.0250],\n",
              "         [ 0.0212],\n",
              "         [ 0.0384],\n",
              "         [-0.0455],\n",
              "         [ 0.0196],\n",
              "         [-0.0619]], grad_fn=<UnsqueezeBackward0>))"
            ]
          },
          "metadata": {},
          "execution_count": 54
        }
      ]
    },
    {
      "cell_type": "code",
      "source": [
        "class BaselineTrivial(nn.Module):\n",
        "    def __init__(self, dt: float = AVERAGE_DT):\n",
        "        super().__init__()\n",
        "\n",
        "        self.lstm = nn.LSTM(1, 1, num_layers=1, batch_first=True)\n",
        "        self.dt = dt\n",
        "\n",
        "    def forward(self, spot: torch.Tensor, return_hidden: bool = False) -> torch.Tensor:\n",
        "        return torch.Tensor([[0] * (spot.shape[1] - 2)] * spot.shape[0]).to(torch.float32).to(DEVICE)\n",
        "\n",
        "    def get_pnl(self, spot: torch.Tensor) -> torch.float32:\n",
        "        # hedging_weights = nn.Softmax()(self.forward(spot, return_hidden=False), dim=XXX)\n",
        "        hedging_weights = self.forward(spot, return_hidden=False)\n",
        "        return hedging_weights, get_pnl(spot=spot, weights=hedging_weights, dt=self.dt)"
      ],
      "metadata": {
        "id": "2pAqlUWqJkFl"
      },
      "execution_count": 61,
      "outputs": []
    },
    {
      "cell_type": "code",
      "execution_count": 58,
      "metadata": {
        "id": "6gpXp84S7Y2T",
        "colab": {
          "base_uri": "https://localhost:8080/",
          "height": 388
        },
        "outputId": "152be961-1f3d-4736-b82b-a05e05cc12ff"
      },
      "outputs": [
        {
          "output_type": "display_data",
          "data": {
            "text/plain": [
              "<Figure size 1300x400 with 2 Axes>"
            ],
            "image/png": "[encoded data removed]"
          },
          "metadata": {}
        }
      ],
      "source": [
        "N_EPOCHS = 30\n",
        "\n",
        "hedger = NeuralHedger().to(DEVICE)\n",
        "\n",
        "train_set = SpotDataset(data=train_df, instrument_cls=EuropeanCall)\n",
        "val_set = SpotDataset(data=test_df, instrument_cls=EuropeanCall)\n",
        "\n",
        "train_loader = DataLoader(train_set, batch_size=32, shuffle=True, drop_last=False)\n",
        "val_loader = DataLoader(val_set, batch_size=32, shuffle=True, drop_last=False)\n",
        "\n",
        "optimizer = torch.optim.SGD(hedger.parameters(), lr=0.001, momentum=0.9)\n",
        "# optimizer = torch.optim.Adam(hedger.parameters())\n",
        "scheduler = torch.optim.lr_scheduler.CosineAnnealingLR(optimizer, T_max=N_EPOCHS)\n",
        "\n",
        "train_losses, val_losses, weights, train_diffs, val_diffs = train(\n",
        "    model=hedger,\n",
        "    optimizer=optimizer,\n",
        "    scheduler=scheduler,\n",
        "    train_loader=train_loader,\n",
        "    val_loader=val_loader,\n",
        "    num_epochs=N_EPOCHS,\n",
        "    print_logs=True\n",
        ")"
      ]
    },
    {
      "cell_type": "code",
      "execution_count": 60,
      "metadata": {
        "id": "YkGZ3kuULB55"
      },
      "outputs": [],
      "source": [
        "torch.save(hedger, PATH / \"opt_out_new_30_bn_till_sgd.pt\")"
      ]
    },
    {
      "cell_type": "code",
      "source": [
        "assess_model(hedger, BaselineEuropeanCall().to(DEVICE))"
      ],
      "metadata": {
        "colab": {
          "base_uri": "https://localhost:8080/",
          "height": 515
        },
        "id": "ThXZTcubFoiG",
        "outputId": "bb337fd8-bdd3-4b36-d17b-7f5122a58cb4"
      },
      "execution_count": 59,
      "outputs": [
        {
          "output_type": "stream",
          "name": "stdout",
          "text": [
            "Average weight = 0.8237989544868469, Weights = [0.3806747794151306; 0.8777419328689575]\n",
            "Means: model = 0.271759, baseline = 0.278402\n",
            "Stds: model = 0.279819, baseline = 0.107962\n",
            "VaRs 5%: model = 0.010626, baseline = 0.132678\n",
            "T-stat = -1.384569\n"
          ]
        },
        {
          "output_type": "display_data",
          "data": {
            "text/plain": [
              "<Figure size 640x480 with 1 Axes>"
            ],
            "image/png": "[encoded data removed]"
          },
          "metadata": {}
        }
      ]
    },
    {
      "cell_type": "code",
      "source": [
        "assess_model(hedger, BaselineEuropeanCall().to(DEVICE))"
      ],
      "metadata": {
        "colab": {
          "base_uri": "https://localhost:8080/",
          "height": 515
        },
        "id": "gQNnkp903Ywx",
        "outputId": "86bb7c7d-4243-4d06-c8da-570ac679e54e"
      },
      "execution_count": 57,
      "outputs": [
        {
          "output_type": "stream",
          "name": "stdout",
          "text": [
            "Average weight = 0.0659189447760582, Weights = [0.05311688780784607; 0.07190795242786407]\n",
            "Means: model = 0.227525, baseline = 0.278402\n",
            "Stds: model = 0.297981, baseline = 0.107962\n",
            "VaRs 5%: model = 0.005153, baseline = 0.132678\n",
            "T-stat = -10.035302\n"
          ]
        },
        {
          "output_type": "display_data",
          "data": {
            "text/plain": [
              "<Figure size 640x480 with 1 Axes>"
            ],
            "image/png": "[encoded data removed]"
          },
          "metadata": {}
        }
      ]
    },
    {
      "cell_type": "code",
      "source": [
        "assess_model(hedger, BaselineEuropeanCall().to(DEVICE))"
      ],
      "metadata": {
        "colab": {
          "base_uri": "https://localhost:8080/",
          "height": 515
        },
        "id": "bZ1fQ5ERvVwa",
        "outputId": "3d9c1baa-4ba9-432c-feb2-330e4e357620"
      },
      "execution_count": 45,
      "outputs": [
        {
          "output_type": "stream",
          "name": "stdout",
          "text": [
            "Average weight = 0.3348276615142822, Weights = [0.2887062728404999; 0.3429851531982422]\n",
            "Means: model = 0.243174, baseline = 0.275242\n",
            "Stds: model = 0.195772, baseline = 0.124425\n",
            "VaRs 5%: model = 0.022626, baseline = 0.110188\n",
            "T-stat = -8.642206\n"
          ]
        },
        {
          "output_type": "display_data",
          "data": {
            "text/plain": [
              "<Figure size 640x480 with 1 Axes>"
            ],
            "image/png": "[encoded data removed]"
          },
          "metadata": {}
        }
      ]
    },
    {
      "cell_type": "code",
      "source": [
        "assess_model(hedger, BaselineEuropeanCall().to(DEVICE))"
      ],
      "metadata": {
        "colab": {
          "base_uri": "https://localhost:8080/",
          "height": 515
        },
        "id": "LUpUQDGJO92S",
        "outputId": "026d13c9-c356-465f-ea28-32b2d6023c55"
      },
      "execution_count": 44,
      "outputs": [
        {
          "output_type": "stream",
          "name": "stdout",
          "text": [
            "Average weight = 0.5927157402038574, Weights = [0.4829641580581665; 0.6775957345962524]\n",
            "Means: model = 0.258667, baseline = 0.275242\n",
            "Stds: model = 0.195231, baseline = 0.124425\n",
            "VaRs 5%: model = 0.032451, baseline = 0.110188\n",
            "T-stat = -4.475626\n"
          ]
        },
        {
          "output_type": "display_data",
          "data": {
            "text/plain": [
              "<Figure size 640x480 with 1 Axes>"
            ],
            "image/png": "[encoded data removed]"
          },
          "metadata": {}
        }
      ]
    }
  ],
  "metadata": {
    "accelerator": "GPU",
    "colab": {
      "gpuType": "T4",
      "machine_shape": "hm",
      "provenance": []
    },
    "kernelspec": {
      "display_name": "Python 3",
      "name": "python3"
    },
    "language_info": {
      "codemirror_mode": {
        "name": "ipython",
        "version": 3
      },
      "file_extension": ".py",
      "mimetype": "text/x-python",
      "name": "python",
      "nbconvert_exporter": "python",
      "pygments_lexer": "ipython3",
      "version": "3.8.5"
    },
    "max_cell_id": 35
  },
  "nbformat": 4,
  "nbformat_minor": 0
}