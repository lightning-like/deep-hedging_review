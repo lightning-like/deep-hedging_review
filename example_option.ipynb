{
 "cells": [
  {
   "cell_type": "markdown",
   "metadata": {
    "id": "41VE08_pyFuR"
   },
   "source": [
    "# **Deep Hedging**\n",
    "# Buchkov Viacheslav"
   ]
  },
  {
   "cell_type": "code",
   "metadata": {
    "id": "LKcSNj4tlRVK",
    "ExecuteTime": {
     "end_time": "2024-06-04T18:39:01.578254Z",
     "start_time": "2024-06-04T18:39:00.050020Z"
    }
   },
   "source": [
    "from pathlib import Path\n",
    "\n",
    "from deep_hedging import ExperimentConfig, EuropeanCall, seed_everything\n",
    "from deep_hedging.dl import SpotDataset, Trainer, Assessor\n",
    "from deep_hedging.dl.models import LSTMHedger\n",
    "from deep_hedging.dl.baselines import BaselineEuropeanCall\n",
    "\n",
    "RANDOM_SEED = 12"
   ],
   "outputs": [],
   "execution_count": 1
  },
  {
   "metadata": {
    "ExecuteTime": {
     "end_time": "2024-06-04T18:39:01.584234Z",
     "start_time": "2024-06-04T18:39:01.579462Z"
    }
   },
   "cell_type": "code",
   "source": [
    "config = ExperimentConfig(\n",
    "    RANDOM_SEED=RANDOM_SEED,\n",
    "    DATA_ROOT=Path(\"data\"),\n",
    "    OUTPUT_ROOT=Path(\".\")\n",
    ")\n",
    "seed_everything(RANDOM_SEED)\n",
    "\n",
    "config.DEVICE"
   ],
   "outputs": [
    {
     "data": {
      "text/plain": [
       "device(type='mps')"
      ]
     },
     "execution_count": 2,
     "metadata": {},
     "output_type": "execute_result"
    }
   ],
   "execution_count": 2
  },
  {
   "metadata": {
    "ExecuteTime": {
     "end_time": "2024-06-04T18:39:01.587433Z",
     "start_time": "2024-06-04T18:39:01.584888Z"
    }
   },
   "cell_type": "code",
   "source": "config",
   "outputs": [
    {
     "data": {
      "text/plain": [
       "ExperimentConfig(N_DAYS=5, REBAL_FREQ='30 min', VAR_QUANTILE=0.05, TEST_SIZE=0.1, RANDOM_SEED=12, DATA_ROOT=PosixPath('data'), OUTPUT_ROOT=PosixPath('.'), DATA_FILENAME='data_full', NORMALIZE=False, USE_TIME_DIFF=True, USE_SPOT_START=True, N_EPOCHS=20, LR=0.01, BATCH_SIZE=32, NUM_LAYERS=3, HIDDEN_DIM=32, OPTIMIZER=<class 'torch.optim.adam.Adam'>, NUM_WORKERS=2)"
      ]
     },
     "execution_count": 3,
     "metadata": {},
     "output_type": "execute_result"
    }
   ],
   "execution_count": 3
  },
  {
   "cell_type": "markdown",
   "metadata": {
    "id": "cty5h8mOOnas"
   },
   "source": [
    "## Dataset."
   ]
  },
  {
   "cell_type": "code",
   "metadata": {
    "id": "uARQpAIhOnat",
    "colab": {
     "base_uri": "https://localhost:8080/"
    },
    "outputId": "08101b5d-978c-4670-d1da-09d096af91b6",
    "ExecuteTime": {
     "end_time": "2024-06-04T18:39:01.654605Z",
     "start_time": "2024-06-04T18:39:01.588205Z"
    }
   },
   "source": [
    "spot_dataset = SpotDataset(\n",
    "    n_days=config.N_DAYS,\n",
    "    instrument_cls=EuropeanCall\n",
    ")\n",
    "spot_dataset.df.head()"
   ],
   "outputs": [
    {
     "data": {
      "text/plain": [
       "                                 bid        ask  rub_rate  usd_rate  time_diff\n",
       "timestamp                                                                     \n",
       "2017-01-03 07:00:00+00:00  60.973760  61.016500  0.081265   0.00672   0.000000\n",
       "2017-01-03 07:01:00+00:00  61.010855  61.068045  0.081265   0.00672   0.000002\n",
       "2017-01-03 07:02:00+00:00  61.037220  61.069850  0.081265   0.00672   0.000004\n",
       "2017-01-03 07:03:00+00:00  61.011955  61.048690  0.081265   0.00672   0.000006\n",
       "2017-01-03 07:04:00+00:00  61.021250  61.052835  0.081265   0.00672   0.000008"
      ],
      "text/html": [
       "<div>\n",
       "<style scoped>\n",
       "    .dataframe tbody tr th:only-of-type {\n",
       "        vertical-align: middle;\n",
       "    }\n",
       "\n",
       "    .dataframe tbody tr th {\n",
       "        vertical-align: top;\n",
       "    }\n",
       "\n",
       "    .dataframe thead th {\n",
       "        text-align: right;\n",
       "    }\n",
       "</style>\n",
       "<table border=\"1\" class=\"dataframe\">\n",
       "  <thead>\n",
       "    <tr style=\"text-align: right;\">\n",
       "      <th></th>\n",
       "      <th>bid</th>\n",
       "      <th>ask</th>\n",
       "      <th>rub_rate</th>\n",
       "      <th>usd_rate</th>\n",
       "      <th>time_diff</th>\n",
       "    </tr>\n",
       "    <tr>\n",
       "      <th>timestamp</th>\n",
       "      <th></th>\n",
       "      <th></th>\n",
       "      <th></th>\n",
       "      <th></th>\n",
       "      <th></th>\n",
       "    </tr>\n",
       "  </thead>\n",
       "  <tbody>\n",
       "    <tr>\n",
       "      <th>2017-01-03 07:00:00+00:00</th>\n",
       "      <td>60.973760</td>\n",
       "      <td>61.016500</td>\n",
       "      <td>0.081265</td>\n",
       "      <td>0.00672</td>\n",
       "      <td>0.000000</td>\n",
       "    </tr>\n",
       "    <tr>\n",
       "      <th>2017-01-03 07:01:00+00:00</th>\n",
       "      <td>61.010855</td>\n",
       "      <td>61.068045</td>\n",
       "      <td>0.081265</td>\n",
       "      <td>0.00672</td>\n",
       "      <td>0.000002</td>\n",
       "    </tr>\n",
       "    <tr>\n",
       "      <th>2017-01-03 07:02:00+00:00</th>\n",
       "      <td>61.037220</td>\n",
       "      <td>61.069850</td>\n",
       "      <td>0.081265</td>\n",
       "      <td>0.00672</td>\n",
       "      <td>0.000004</td>\n",
       "    </tr>\n",
       "    <tr>\n",
       "      <th>2017-01-03 07:03:00+00:00</th>\n",
       "      <td>61.011955</td>\n",
       "      <td>61.048690</td>\n",
       "      <td>0.081265</td>\n",
       "      <td>0.00672</td>\n",
       "      <td>0.000006</td>\n",
       "    </tr>\n",
       "    <tr>\n",
       "      <th>2017-01-03 07:04:00+00:00</th>\n",
       "      <td>61.021250</td>\n",
       "      <td>61.052835</td>\n",
       "      <td>0.081265</td>\n",
       "      <td>0.00672</td>\n",
       "      <td>0.000008</td>\n",
       "    </tr>\n",
       "  </tbody>\n",
       "</table>\n",
       "</div>"
      ]
     },
     "execution_count": 4,
     "metadata": {},
     "output_type": "execute_result"
    }
   ],
   "execution_count": 4
  },
  {
   "metadata": {},
   "cell_type": "code",
   "source": [
    "trainer = Trainer(\n",
    "    model_cls=LSTMHedger,\n",
    "    instrument_cls=EuropeanCall,\n",
    "    config=config\n",
    ")\n",
    "trainer.run(1)"
   ],
   "execution_count": 5,
   "outputs": [
    {
     "data": {
      "text/plain": [
       "<Figure size 1300x400 with 2 Axes>"
      ],
      "image/png": "[encoded data removed]"
     },
     "metadata": {},
     "output_type": "display_data"
    }
   ]
  },
  {
   "metadata": {
    "ExecuteTime": {
     "end_time": "2024-06-04T18:42:54.072546Z",
     "start_time": "2024-06-04T18:42:35.119201Z"
    }
   },
   "cell_type": "code",
   "source": [
    "assessor = Assessor(\n",
    "    model=trainer.hedger,\n",
    "    baseline=BaselineEuropeanCall(dt=trainer.dt).to(config.DEVICE),\n",
    "    test_loader=trainer.test_loader\n",
    ")\n",
    "assessor.run()"
   ],
   "outputs": [
    {
     "name": "stdout",
     "output_type": "stream",
     "text": [
      "Average weight = -0.0917733907699585, Weights = [-0.09218291938304901; -0.08141006529331207]\n",
      "Means: model = 0.575323, baseline = 0.815242\n",
      "Stds: model = 0.916758, baseline = 0.469759\n",
      "VaRs 5%: model = 0.249427, baseline = 0.319765\n",
      "T-stat = -26.138529\n"
     ]
    },
    {
     "data": {
      "text/plain": [
       "<Figure size 640x480 with 1 Axes>"
      ],
      "image/png": "[encoded data removed]"
     },
     "metadata": {},
     "output_type": "display_data"
    }
   ],
   "execution_count": 6
  },
  {
   "metadata": {
    "ExecuteTime": {
     "end_time": "2024-06-04T18:42:54.097951Z",
     "start_time": "2024-06-04T18:42:54.075350Z"
    }
   },
   "cell_type": "code",
   "source": "trainer.save(config.OUTPUT_ROOT)",
   "outputs": [],
   "execution_count": 7
  }
 ],
 "metadata": {
  "accelerator": "GPU",
  "colab": {
   "gpuType": "T4",
   "machine_shape": "hm",
   "provenance": []
  },
  "kernelspec": {
   "display_name": "Python 3 (ipykernel)",
   "name": "python3",
   "language": "python"
  },
  "language_info": {
   "codemirror_mode": {
    "name": "ipython",
    "version": 3
   },
   "file_extension": ".py",
   "mimetype": "text/x-python",
   "name": "python",
   "nbconvert_exporter": "python",
   "pygments_lexer": "ipython3",
   "version": "3.8.5"
  },
  "max_cell_id": 35
 },
 "nbformat": 4,
 "nbformat_minor": 0
}
