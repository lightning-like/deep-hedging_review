{
 "cells": [
  {
   "cell_type": "markdown",
   "metadata": {
    "id": "41VE08_pyFuR"
   },
   "source": [
    "# **Deep Hedging**\n",
    "# Buchkov Viacheslav"
   ]
  },
  {
   "cell_type": "code",
   "metadata": {
    "id": "LKcSNj4tlRVK",
    "ExecuteTime": {
     "end_time": "2024-06-04T18:39:01.578254Z",
     "start_time": "2024-06-04T18:39:00.050020Z"
    }
   },
   "source": [
    "from pathlib import Path\n",
    "\n",
    "from deep_hedging import ExperimentConfig, EuropeanCall, seed_everything\n",
    "from deep_hedging.dl import SpotDataset, Trainer, Assessor\n",
    "from deep_hedging.dl.models import LSTMHedger\n",
    "from deep_hedging.dl.baselines import BaselineEuropeanCall\n",
    "\n",
    "RANDOM_SEED = 12"
   ],
   "execution_count": 1,
   "outputs": []
  },
  {
   "metadata": {
    "ExecuteTime": {
     "end_time": "2024-06-04T18:39:01.584234Z",
     "start_time": "2024-06-04T18:39:01.579462Z"
    }
   },
   "cell_type": "code",
   "source": [
    "config = ExperimentConfig(\n",
    "    RANDOM_SEED=RANDOM_SEED,\n",
    "    DATA_ROOT=Path(\"data\"),\n",
    "    OUTPUT_ROOT=Path(\".\")\n",
    ")\n",
    "seed_everything(RANDOM_SEED)\n",
    "\n",
    "config.DEVICE"
   ],
   "execution_count": 2,
   "outputs": []
  },
  {
   "metadata": {
    "ExecuteTime": {
     "end_time": "2024-06-04T18:39:01.587433Z",
     "start_time": "2024-06-04T18:39:01.584888Z"
    }
   },
   "cell_type": "code",
   "source": "config",
   "execution_count": 3,
   "outputs": []
  },
  {
   "cell_type": "markdown",
   "metadata": {
    "id": "cty5h8mOOnas"
   },
   "source": [
    "## Dataset."
   ]
  },
  {
   "cell_type": "code",
   "metadata": {
    "id": "uARQpAIhOnat",
    "colab": {
     "base_uri": "https://localhost:8080/"
    },
    "outputId": "08101b5d-978c-4670-d1da-09d096af91b6",
    "ExecuteTime": {
     "end_time": "2024-06-04T18:39:01.654605Z",
     "start_time": "2024-06-04T18:39:01.588205Z"
    }
   },
   "source": [
    "spot_dataset = SpotDataset(\n",
    "    n_days=config.N_DAYS,\n",
    "    instrument_cls=EuropeanCall\n",
    ")\n",
    "spot_dataset.df.head()"
   ],
   "execution_count": 4,
   "outputs": []
  },
  {
   "metadata": {},
   "cell_type": "code",
   "source": [
    "trainer = Trainer(\n",
    "    model_cls=LSTMHedger,\n",
    "    instrument_cls=EuropeanCall,\n",
    "    config=config\n",
    ")\n",
    "trainer.run(1)"
   ],
   "execution_count": 5,
   "outputs": []
  },
  {
   "metadata": {
    "ExecuteTime": {
     "end_time": "2024-06-04T18:42:54.072546Z",
     "start_time": "2024-06-04T18:42:35.119201Z"
    }
   },
   "cell_type": "code",
   "source": [
    "assessor = Assessor(\n",
    "    model=trainer.hedger,\n",
    "    baseline=BaselineEuropeanCall(dt=trainer.dt).to(config.DEVICE),\n",
    "    test_loader=trainer.test_loader\n",
    ")\n",
    "assessor.run()"
   ],
   "execution_count": 6,
   "outputs": []
  },
  {
   "metadata": {
    "ExecuteTime": {
     "end_time": "2024-06-04T18:42:54.097951Z",
     "start_time": "2024-06-04T18:42:54.075350Z"
    }
   },
   "cell_type": "code",
   "source": "trainer.save(config.OUTPUT_ROOT)",
   "execution_count": 7,
   "outputs": []
  }
 ],
 "metadata": {
  "accelerator": "GPU",
  "colab": {
   "gpuType": "T4",
   "machine_shape": "hm",
   "provenance": []
  },
  "kernelspec": {
   "display_name": "Python 3 (ipykernel)",
   "name": "python3",
   "language": "python"
  },
  "language_info": {
   "codemirror_mode": {
    "name": "ipython",
    "version": 3
   },
   "file_extension": ".py",
   "mimetype": "text/x-python",
   "name": "python",
   "nbconvert_exporter": "python",
   "pygments_lexer": "ipython3",
   "version": "3.8.5"
  },
  "max_cell_id": 35
 },
 "nbformat": 4,
 "nbformat_minor": 0
}
